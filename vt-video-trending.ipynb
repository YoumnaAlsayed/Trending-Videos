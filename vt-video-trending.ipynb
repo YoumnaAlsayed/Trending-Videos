{
 "cells": [
  {
   "cell_type": "markdown",
   "metadata": {},
   "source": [
    "# Import the required libraries"
   ]
  },
  {
   "cell_type": "code",
   "execution_count": 1,
   "metadata": {
    "execution": {
     "iopub.execute_input": "2022-11-07T23:09:51.398814Z",
     "iopub.status.busy": "2022-11-07T23:09:51.398397Z",
     "iopub.status.idle": "2022-11-07T23:10:04.361479Z",
     "shell.execute_reply": "2022-11-07T23:10:04.360185Z",
     "shell.execute_reply.started": "2022-11-07T23:09:51.398728Z"
    }
   },
   "outputs": [
    {
     "name": "stdout",
     "output_type": "stream",
     "text": [
      "Collecting tokens\n",
      "  Downloading tokens-0.0.3.tar.gz (3.8 kB)\n",
      "  Preparing metadata (setup.py) ... \u001b[?25ldone\n",
      "\u001b[?25hBuilding wheels for collected packages: tokens\n",
      "  Building wheel for tokens (setup.py) ... \u001b[?25ldone\n",
      "\u001b[?25h  Created wheel for tokens: filename=tokens-0.0.3-py3-none-any.whl size=4232 sha256=0c9021cb306469c9909300baefc3abc199d18cccb2dce6e234916a417ad4b344\n",
      "  Stored in directory: /root/.cache/pip/wheels/3c/72/56/526e5c2a15bf7576f90fbe72e2d956da7cedbeb052552e7f5b\n",
      "Successfully built tokens\n",
      "Installing collected packages: tokens\n",
      "Successfully installed tokens-0.0.3\n",
      "\u001b[33mWARNING: Running pip as the 'root' user can result in broken permissions and conflicting behaviour with the system package manager. It is recommended to use a virtual environment instead: https://pip.pypa.io/warnings/venv\u001b[0m\u001b[33m\n",
      "\u001b[0mNote: you may need to restart the kernel to use updated packages.\n"
     ]
    }
   ],
   "source": [
    "# pip install tokens"
   ]
  },
  {
   "cell_type": "code",
   "execution_count": 1,
   "metadata": {
    "execution": {
     "iopub.execute_input": "2022-11-07T23:10:04.363819Z",
     "iopub.status.busy": "2022-11-07T23:10:04.363528Z",
     "iopub.status.idle": "2022-11-07T23:10:05.879924Z",
     "shell.execute_reply": "2022-11-07T23:10:05.878993Z",
     "shell.execute_reply.started": "2022-11-07T23:10:04.363790Z"
    }
   },
   "outputs": [
    {
     "name": "stderr",
     "output_type": "stream",
     "text": [
      "C:\\Users\\fatma\\Anaconda3\\lib\\site-packages\\numpy\\_distributor_init.py:32: UserWarning: loaded more than 1 DLL from .libs:\n",
      "C:\\Users\\fatma\\Anaconda3\\lib\\site-packages\\numpy\\.libs\\libopenblas.PYQHXLVVQ7VESDPUVUADXEVJOBGHJPAY.gfortran-win_amd64.dll\n",
      "C:\\Users\\fatma\\Anaconda3\\lib\\site-packages\\numpy\\.libs\\libopenblas.XWYDX2IKJW2NMTWSFYNGFUWKQU3LYTCZ.gfortran-win_amd64.dll\n",
      "  stacklevel=1)\n"
     ]
    }
   ],
   "source": [
    "import pandas as pd\n",
    "import numpy as np\n",
    "import seaborn as sns\n",
    "import matplotlib.pyplot as plt\n",
    "import matplotlib as mpl\n",
    "import missingno as msno\n",
    "import os\n",
    "import json\n",
    "import string\n",
    "import re\n",
    "import nltk\n",
    "from collections import Counter\n",
    "\n",
    "from sklearn.model_selection import train_test_split\n",
    "from sklearn.linear_model import LogisticRegression\n",
    "from sklearn.linear_model import LinearRegression\n",
    "from sklearn.preprocessing import LabelEncoder\n",
    "from scipy import stats\n",
    "from sklearn.impute import KNNImputer\n",
    "from pprint import pprint\n",
    "import sklearn.metrics\n",
    "from sklearn.ensemble import RandomForestRegressor \n",
    "from sklearn.feature_selection import SelectFromModel\n",
    "from sklearn.preprocessing import StandardScaler\n",
    "\n",
    "from sklearn.cluster import KMeans\n",
    "from yellowbrick.cluster.elbow import kelbow_visualizer\n",
    "\n",
    "from xgboost import XGBRegressor\n",
    "from sklearn import metrics\n",
    "\n",
    "from sklearn.model_selection import GridSearchCV\n",
    "from sklearn.ensemble import RandomForestClassifier\n",
    "\n",
    "from sklearn.metrics import recall_score as rs\n",
    "from sklearn.metrics import precision_score as ps\n",
    "from sklearn.metrics import f1_score as fs\n",
    "from sklearn.preprocessing import LabelEncoder\n",
    "\n",
    "from sklearn.neighbors import KNeighborsClassifier\n",
    "\n",
    "\n",
    "import warnings \n",
    "warnings.filterwarnings('ignore')\n",
    "\n",
    "# allow display of multiple outputs by running one code cell\n",
    "from IPython.core.interactiveshell import InteractiveShell\n",
    "InteractiveShell.ast_node_interactivity = \"all\""
   ]
  },
  {
   "cell_type": "markdown",
   "metadata": {},
   "source": [
    "# Read the dataset and prepare it"
   ]
  },
  {
   "cell_type": "code",
   "execution_count": 2,
   "metadata": {
    "execution": {
     "iopub.execute_input": "2022-11-07T23:10:05.881780Z",
     "iopub.status.busy": "2022-11-07T23:10:05.881417Z",
     "iopub.status.idle": "2022-11-07T23:10:05.887309Z",
     "shell.execute_reply": "2022-11-07T23:10:05.886319Z",
     "shell.execute_reply.started": "2022-11-07T23:10:05.881745Z"
    }
   },
   "outputs": [],
   "source": [
    "country_names=['US','CA','DE','FR','GB','IN','JP','KR','MX','RU','BR']"
   ]
  },
  {
   "cell_type": "code",
   "execution_count": 3,
   "metadata": {
    "execution": {
     "iopub.execute_input": "2022-11-07T23:10:05.890131Z",
     "iopub.status.busy": "2022-11-07T23:10:05.889552Z",
     "iopub.status.idle": "2022-11-07T23:10:05.944651Z",
     "shell.execute_reply": "2022-11-07T23:10:05.943837Z",
     "shell.execute_reply.started": "2022-11-07T23:10:05.890095Z"
    }
   },
   "outputs": [],
   "source": [
    "# creates a dictionary that maps `category_id` to `category`\n",
    "id_to_category = {}\n",
    "d={}\n",
    "for name in country_names:\n",
    "    with open('archive/{}_category_id.json'.format(name), 'r') as f:\n",
    "        data = json.load(f)\n",
    "        for category in data['items']:\n",
    "            id_to_category[category['id']] = category['snippet']['title']\n",
    "            d[\"\" + str(name)] = id_to_category"
   ]
  },
  {
   "cell_type": "code",
   "execution_count": 4,
   "metadata": {
    "execution": {
     "iopub.execute_input": "2022-11-07T23:10:05.947732Z",
     "iopub.status.busy": "2022-11-07T23:10:05.947479Z",
     "iopub.status.idle": "2022-11-07T23:10:05.963513Z",
     "shell.execute_reply": "2022-11-07T23:10:05.962607Z",
     "shell.execute_reply.started": "2022-11-07T23:10:05.947709Z"
    }
   },
   "outputs": [],
   "source": [
    "BR_Category = pd.DataFrame(d['BR'].items(), columns=['categoryId', 'Category'])\n",
    "US_Category = pd.DataFrame(d['US'].items(), columns=['categoryId', 'Category'])\n",
    "DE_Category = pd.DataFrame(d['DE'].items(), columns=['categoryId', 'Category'])\n",
    "FR_Category = pd.DataFrame(d['FR'].items(), columns=['categoryId', 'Category'])\n",
    "GB_Category = pd.DataFrame(d['GB'].items(), columns=['categoryId', 'Category'])\n",
    "IN_Category = pd.DataFrame(d['IN'].items(), columns=['categoryId', 'Category'])\n",
    "JP_Category = pd.DataFrame(d['JP'].items(), columns=['categoryId', 'Category'])\n",
    "KR_Category = pd.DataFrame(d['KR'].items(), columns=['categoryId', 'Category'])\n",
    "MX_Category = pd.DataFrame(d['MX'].items(), columns=['categoryId', 'Category'])\n",
    "RU_Category = pd.DataFrame(d['RU'].items(), columns=['categoryId', 'Category'])\n",
    "CA_Category = pd.DataFrame(d['CA'].items(), columns=['categoryId', 'Category'])"
   ]
  },
  {
   "cell_type": "code",
   "execution_count": 5,
   "metadata": {
    "execution": {
     "iopub.execute_input": "2022-11-07T23:10:08.963001Z",
     "iopub.status.busy": "2022-11-07T23:10:08.962639Z",
     "iopub.status.idle": "2022-11-07T23:11:04.517584Z",
     "shell.execute_reply": "2022-11-07T23:11:04.516432Z",
     "shell.execute_reply.started": "2022-11-07T23:10:08.962970Z"
    }
   },
   "outputs": [],
   "source": [
    "df_BR =pd.read_csv(\"archive/BR_youtube_trending_data.csv\")\n",
    "df_BR['country'] = \"BR\"\n",
    "df_CA =pd.read_csv(\"archive/CA_youtube_trending_data.csv\")\n",
    "df_CA['country'] = \"CA\"\n",
    "df_DE =pd.read_csv(\"archive/DE_youtube_trending_data.csv\")\n",
    "df_DE['country'] = \"DE\"\n",
    "df_FR =pd.read_csv(\"archive/FR_youtube_trending_data.csv\")\n",
    "df_FR['country'] = \"FR\"\n",
    "df_GB =pd.read_csv(\"archive/GB_youtube_trending_data.csv\")\n",
    "df_GB['country'] = \"GB\"\n",
    "df_IN =pd.read_csv(\"archive/IN_youtube_trending_data.csv\")\n",
    "df_IN['country'] = \"IN\"\n",
    "df_JP =pd.read_csv(\"archive/JP_youtube_trending_data.csv\")\n",
    "df_JP['country'] = \"JP\"\n",
    "df_KR =pd.read_csv(\"archive/KR_youtube_trending_data.csv\")\n",
    "df_KR['country'] = \"KR\"\n",
    "df_MX =pd.read_csv(\"archive/MX_youtube_trending_data.csv\")\n",
    "df_MX['country'] = \"MX\"\n",
    "df_RU =pd.read_csv(\"archive/RU_youtube_trending_data.csv\")\n",
    "df_RU['country'] = \"RU\"\n",
    "df_US =pd.read_csv(\"archive/US_youtube_trending_data.csv\")\n",
    "df_US['country'] = \"US\""
   ]
  },
  {
   "cell_type": "code",
   "execution_count": 6,
   "metadata": {
    "execution": {
     "iopub.execute_input": "2022-11-07T23:11:04.520112Z",
     "iopub.status.busy": "2022-11-07T23:11:04.519714Z",
     "iopub.status.idle": "2022-11-07T23:11:05.520025Z",
     "shell.execute_reply": "2022-11-07T23:11:05.519015Z",
     "shell.execute_reply.started": "2022-11-07T23:11:04.520073Z"
    }
   },
   "outputs": [],
   "source": [
    "df_BR.categoryId = df_BR.categoryId.astype(str)\n",
    "df_CA.categoryId = df_CA.categoryId.astype(str)\n",
    "df_DE.categoryId = df_DE.categoryId.astype(str)\n",
    "df_FR.categoryId = df_FR.categoryId.astype(str)\n",
    "df_GB.categoryId = df_GB.categoryId.astype(str)\n",
    "df_IN.categoryId = df_IN.categoryId.astype(str)\n",
    "df_JP.categoryId = df_JP.categoryId.astype(str)\n",
    "df_KR.categoryId = df_KR.categoryId.astype(str)\n",
    "df_MX.categoryId = df_MX.categoryId.astype(str)\n",
    "df_RU.categoryId = df_RU.categoryId.astype(str)\n",
    "df_US.categoryId = df_US.categoryId.astype(str)"
   ]
  },
  {
   "cell_type": "code",
   "execution_count": 7,
   "metadata": {
    "execution": {
     "iopub.execute_input": "2022-11-07T23:11:05.522064Z",
     "iopub.status.busy": "2022-11-07T23:11:05.521662Z",
     "iopub.status.idle": "2022-11-07T23:11:07.139930Z",
     "shell.execute_reply": "2022-11-07T23:11:07.138918Z",
     "shell.execute_reply.started": "2022-11-07T23:11:05.522026Z"
    }
   },
   "outputs": [],
   "source": [
    "df_BR = pd.merge(df_BR,BR_Category,on='categoryId',how='left')\n",
    "\n",
    "df_CA = pd.merge(df_CA,CA_Category,on='categoryId',how='left')\n",
    "\n",
    "df_DE = pd.merge(df_DE,DE_Category,on='categoryId',how='left')\n",
    "\n",
    "df_FR = pd.merge(df_FR,FR_Category,on='categoryId',how='left')\n",
    "\n",
    "df_GB = pd.merge(df_GB,GB_Category,on='categoryId',how='left')\n",
    "\n",
    "df_IN = pd.merge(df_IN,IN_Category,on='categoryId',how='left')\n",
    "\n",
    "df_JP = pd.merge(df_JP,JP_Category,on='categoryId',how='left')\n",
    "\n",
    "df_KR = pd.merge(df_KR,KR_Category,on='categoryId',how='left')\n",
    "\n",
    "df_MX = pd.merge(df_MX,MX_Category,on='categoryId',how='left')\n",
    "\n",
    "df_RU = pd.merge(df_RU,RU_Category,on='categoryId',how='left')\n",
    "\n",
    "df_US = pd.merge(df_US,US_Category,on='categoryId',how='left')"
   ]
  },
  {
   "cell_type": "code",
   "execution_count": 8,
   "metadata": {
    "execution": {
     "iopub.execute_input": "2022-11-07T23:11:07.143150Z",
     "iopub.status.busy": "2022-11-07T23:11:07.142735Z",
     "iopub.status.idle": "2022-11-07T23:11:07.493140Z",
     "shell.execute_reply": "2022-11-07T23:11:07.492149Z",
     "shell.execute_reply.started": "2022-11-07T23:11:07.143110Z"
    }
   },
   "outputs": [],
   "source": [
    "df_final = pd.concat([df_BR,df_CA,df_DE,df_FR,df_GB,df_IN,df_JP,df_KR,df_MX,df_RU,df_US], axis=0, ignore_index=True)"
   ]
  },
  {
   "cell_type": "code",
   "execution_count": 9,
   "metadata": {
    "execution": {
     "iopub.execute_input": "2022-11-07T23:11:07.495187Z",
     "iopub.status.busy": "2022-11-07T23:11:07.494600Z",
     "iopub.status.idle": "2022-11-07T23:11:07.526357Z",
     "shell.execute_reply": "2022-11-07T23:11:07.525313Z",
     "shell.execute_reply.started": "2022-11-07T23:11:07.495149Z"
    }
   },
   "outputs": [
    {
     "data": {
      "text/html": [
       "<div>\n",
       "<style scoped>\n",
       "    .dataframe tbody tr th:only-of-type {\n",
       "        vertical-align: middle;\n",
       "    }\n",
       "\n",
       "    .dataframe tbody tr th {\n",
       "        vertical-align: top;\n",
       "    }\n",
       "\n",
       "    .dataframe thead th {\n",
       "        text-align: right;\n",
       "    }\n",
       "</style>\n",
       "<table border=\"1\" class=\"dataframe\">\n",
       "  <thead>\n",
       "    <tr style=\"text-align: right;\">\n",
       "      <th></th>\n",
       "      <th>video_id</th>\n",
       "      <th>title</th>\n",
       "      <th>publishedAt</th>\n",
       "      <th>channelId</th>\n",
       "      <th>channelTitle</th>\n",
       "      <th>categoryId</th>\n",
       "      <th>trending_date</th>\n",
       "      <th>tags</th>\n",
       "      <th>view_count</th>\n",
       "      <th>likes</th>\n",
       "      <th>dislikes</th>\n",
       "      <th>comment_count</th>\n",
       "      <th>thumbnail_link</th>\n",
       "      <th>comments_disabled</th>\n",
       "      <th>ratings_disabled</th>\n",
       "      <th>description</th>\n",
       "      <th>country</th>\n",
       "      <th>Category</th>\n",
       "    </tr>\n",
       "  </thead>\n",
       "  <tbody>\n",
       "    <tr>\n",
       "      <th>0</th>\n",
       "      <td>s9FH4rDMvds</td>\n",
       "      <td>LEVEI UM FORA? FINGI ESTAR APAIXONADO POR ELA!</td>\n",
       "      <td>2020-08-11T22:21:49Z</td>\n",
       "      <td>UCGfBwrCoi9ZJjKiUK8MmJNw</td>\n",
       "      <td>Pietro Guedes</td>\n",
       "      <td>22</td>\n",
       "      <td>2020-08-12T00:00:00Z</td>\n",
       "      <td>pietro|guedes|ingrid|ohara|pingrid|vlog|amigos...</td>\n",
       "      <td>263835</td>\n",
       "      <td>85095</td>\n",
       "      <td>487</td>\n",
       "      <td>4500</td>\n",
       "      <td>https://i.ytimg.com/vi/s9FH4rDMvds/default.jpg</td>\n",
       "      <td>False</td>\n",
       "      <td>False</td>\n",
       "      <td>Salve rapaziada, neste vídeo me declarei pra e...</td>\n",
       "      <td>BR</td>\n",
       "      <td>People &amp; Blogs</td>\n",
       "    </tr>\n",
       "    <tr>\n",
       "      <th>1</th>\n",
       "      <td>jbGRowa5tIk</td>\n",
       "      <td>ITZY “Not Shy” M/V TEASER</td>\n",
       "      <td>2020-08-11T15:00:13Z</td>\n",
       "      <td>UCaO6TYtlC8U5ttz62hTrZgg</td>\n",
       "      <td>JYP Entertainment</td>\n",
       "      <td>10</td>\n",
       "      <td>2020-08-12T00:00:00Z</td>\n",
       "      <td>JYP Entertainment|JYP|ITZY|있지|ITZY Video|ITZY ...</td>\n",
       "      <td>6000070</td>\n",
       "      <td>714310</td>\n",
       "      <td>15176</td>\n",
       "      <td>31040</td>\n",
       "      <td>https://i.ytimg.com/vi/jbGRowa5tIk/default.jpg</td>\n",
       "      <td>False</td>\n",
       "      <td>False</td>\n",
       "      <td>ITZY Not Shy M/V[ITZY Official] https://www.yo...</td>\n",
       "      <td>BR</td>\n",
       "      <td>Music</td>\n",
       "    </tr>\n",
       "    <tr>\n",
       "      <th>2</th>\n",
       "      <td>3EfkCrXKZNs</td>\n",
       "      <td>Oh Juliana PARÓDIA - MC Niack</td>\n",
       "      <td>2020-08-10T14:59:00Z</td>\n",
       "      <td>UCoXZmVma073v5G1cW82UKkA</td>\n",
       "      <td>As Irmãs Mota</td>\n",
       "      <td>22</td>\n",
       "      <td>2020-08-12T00:00:00Z</td>\n",
       "      <td>OH JULIANA PARÓDIA|MC Niack PARÓDIA|PARÓDIAS|A...</td>\n",
       "      <td>2296748</td>\n",
       "      <td>39761</td>\n",
       "      <td>5484</td>\n",
       "      <td>0</td>\n",
       "      <td>https://i.ytimg.com/vi/3EfkCrXKZNs/default.jpg</td>\n",
       "      <td>True</td>\n",
       "      <td>False</td>\n",
       "      <td>Se inscrevam meus amores! 📬 Quer nos mandar al...</td>\n",
       "      <td>BR</td>\n",
       "      <td>People &amp; Blogs</td>\n",
       "    </tr>\n",
       "    <tr>\n",
       "      <th>3</th>\n",
       "      <td>gBjox7vn3-g</td>\n",
       "      <td>Contos de Runeterra: Targon | A Estrada Tortuosa</td>\n",
       "      <td>2020-08-11T15:00:09Z</td>\n",
       "      <td>UC6Xqz2pm50gDCORYztqhDpg</td>\n",
       "      <td>League of Legends BR</td>\n",
       "      <td>20</td>\n",
       "      <td>2020-08-12T00:00:00Z</td>\n",
       "      <td>Riot|Riot Games|League of Legends|lol|trailer|...</td>\n",
       "      <td>300510</td>\n",
       "      <td>46222</td>\n",
       "      <td>242</td>\n",
       "      <td>2748</td>\n",
       "      <td>https://i.ytimg.com/vi/gBjox7vn3-g/default.jpg</td>\n",
       "      <td>False</td>\n",
       "      <td>False</td>\n",
       "      <td>Você se unirá aos Lunari e aos Solari em Targo...</td>\n",
       "      <td>BR</td>\n",
       "      <td>Gaming</td>\n",
       "    </tr>\n",
       "    <tr>\n",
       "      <th>4</th>\n",
       "      <td>npoUGx7UW7o</td>\n",
       "      <td>Entrevista com Thammy Miranda | The Noite (10/...</td>\n",
       "      <td>2020-08-11T20:04:02Z</td>\n",
       "      <td>UCEWOoncsrmirqnFqxer9lmA</td>\n",
       "      <td>The Noite com Danilo Gentili</td>\n",
       "      <td>23</td>\n",
       "      <td>2020-08-12T00:00:00Z</td>\n",
       "      <td>The Noite|The Noite com Danilo Gentili|Danilo ...</td>\n",
       "      <td>327235</td>\n",
       "      <td>22059</td>\n",
       "      <td>3972</td>\n",
       "      <td>2751</td>\n",
       "      <td>https://i.ytimg.com/vi/npoUGx7UW7o/default.jpg</td>\n",
       "      <td>False</td>\n",
       "      <td>False</td>\n",
       "      <td>Danilo Gentili recebe Thammy Miranda. Após pas...</td>\n",
       "      <td>BR</td>\n",
       "      <td>Comedy</td>\n",
       "    </tr>\n",
       "    <tr>\n",
       "      <th>...</th>\n",
       "      <td>...</td>\n",
       "      <td>...</td>\n",
       "      <td>...</td>\n",
       "      <td>...</td>\n",
       "      <td>...</td>\n",
       "      <td>...</td>\n",
       "      <td>...</td>\n",
       "      <td>...</td>\n",
       "      <td>...</td>\n",
       "      <td>...</td>\n",
       "      <td>...</td>\n",
       "      <td>...</td>\n",
       "      <td>...</td>\n",
       "      <td>...</td>\n",
       "      <td>...</td>\n",
       "      <td>...</td>\n",
       "      <td>...</td>\n",
       "      <td>...</td>\n",
       "    </tr>\n",
       "    <tr>\n",
       "      <th>1400780</th>\n",
       "      <td>6j-NPPU2-0Q</td>\n",
       "      <td>Mommy Long Legs is Done Playing || Poppy Playt...</td>\n",
       "      <td>2022-05-06T18:00:02Z</td>\n",
       "      <td>UChL4WU9YLlxXXNSwlzM1-7g</td>\n",
       "      <td>SuperHorrorBro</td>\n",
       "      <td>20</td>\n",
       "      <td>2022-05-11T00:00:00Z</td>\n",
       "      <td>poppy playtime chapter 2|poppy playtime ch 2|p...</td>\n",
       "      <td>836262</td>\n",
       "      <td>30278</td>\n",
       "      <td>0</td>\n",
       "      <td>2518</td>\n",
       "      <td>https://i.ytimg.com/vi/6j-NPPU2-0Q/default.jpg</td>\n",
       "      <td>False</td>\n",
       "      <td>False</td>\n",
       "      <td>Poppy Playtime: Chapter 2 has arrived. This is...</td>\n",
       "      <td>US</td>\n",
       "      <td>Gaming</td>\n",
       "    </tr>\n",
       "    <tr>\n",
       "      <th>1400781</th>\n",
       "      <td>8zewhuMqKtY</td>\n",
       "      <td>Hotboy Wes - Dear Mr. Boosie [Freestyle]</td>\n",
       "      <td>2022-05-04T19:00:02Z</td>\n",
       "      <td>UCoA8xyJ0qoXww3U5aAiH2hQ</td>\n",
       "      <td>Hotboy Wes</td>\n",
       "      <td>22</td>\n",
       "      <td>2022-05-11T00:00:00Z</td>\n",
       "      <td>Hotboy Wes|BigWalkDog|Studio|Studio Life|Miami...</td>\n",
       "      <td>547202</td>\n",
       "      <td>30145</td>\n",
       "      <td>0</td>\n",
       "      <td>1759</td>\n",
       "      <td>https://i.ytimg.com/vi/8zewhuMqKtY/default.jpg</td>\n",
       "      <td>False</td>\n",
       "      <td>False</td>\n",
       "      <td>Hotboy Wes - Dear Mr. BoosieDownload/Stream:Su...</td>\n",
       "      <td>US</td>\n",
       "      <td>People &amp; Blogs</td>\n",
       "    </tr>\n",
       "    <tr>\n",
       "      <th>1400782</th>\n",
       "      <td>TSqYrgnbYrY</td>\n",
       "      <td>EXTREME Balloon Pop Racing!!</td>\n",
       "      <td>2022-05-06T22:00:12Z</td>\n",
       "      <td>UC5f5IV0Bf79YLp_p9nfInRA</td>\n",
       "      <td>How Ridiculous</td>\n",
       "      <td>17</td>\n",
       "      <td>2022-05-11T00:00:00Z</td>\n",
       "      <td>how ridiculous|rexy|44club</td>\n",
       "      <td>1240347</td>\n",
       "      <td>65689</td>\n",
       "      <td>0</td>\n",
       "      <td>2087</td>\n",
       "      <td>https://i.ytimg.com/vi/TSqYrgnbYrY/default.jpg</td>\n",
       "      <td>False</td>\n",
       "      <td>False</td>\n",
       "      <td>How FUN are balloon popping races?!Use code ST...</td>\n",
       "      <td>US</td>\n",
       "      <td>Sports</td>\n",
       "    </tr>\n",
       "    <tr>\n",
       "      <th>1400783</th>\n",
       "      <td>XUlKykxmIGk</td>\n",
       "      <td>FINDING OUT IM PREGNANT + TELLING ALEX</td>\n",
       "      <td>2022-05-04T20:02:25Z</td>\n",
       "      <td>UCDSJCBYqL7VQrlXfhr1RtwA</td>\n",
       "      <td>Les Do Makeup</td>\n",
       "      <td>26</td>\n",
       "      <td>2022-05-11T00:00:00Z</td>\n",
       "      <td>[None]</td>\n",
       "      <td>1186684</td>\n",
       "      <td>95477</td>\n",
       "      <td>0</td>\n",
       "      <td>10131</td>\n",
       "      <td>https://i.ytimg.com/vi/XUlKykxmIGk/default.jpg</td>\n",
       "      <td>False</td>\n",
       "      <td>False</td>\n",
       "      <td>Hi babygirls! Thank you so much for watching, ...</td>\n",
       "      <td>US</td>\n",
       "      <td>Howto &amp; Style</td>\n",
       "    </tr>\n",
       "    <tr>\n",
       "      <th>1400784</th>\n",
       "      <td>aKn-Cf6PtTU</td>\n",
       "      <td>Youtuber, Kevin Samuels Passes Away at 56</td>\n",
       "      <td>2022-05-06T12:52:02Z</td>\n",
       "      <td>UChi08h4577eFsNXGd3sxYhw</td>\n",
       "      <td>Breakfast Club Power 105.1 FM</td>\n",
       "      <td>24</td>\n",
       "      <td>2022-05-11T00:00:00Z</td>\n",
       "      <td>the breakfast club|breakfast club|power1051|ce...</td>\n",
       "      <td>574351</td>\n",
       "      <td>9622</td>\n",
       "      <td>0</td>\n",
       "      <td>5981</td>\n",
       "      <td>https://i.ytimg.com/vi/aKn-Cf6PtTU/default.jpg</td>\n",
       "      <td>False</td>\n",
       "      <td>False</td>\n",
       "      <td>Subscribe NOW to The Breakfast Club: http://ih...</td>\n",
       "      <td>US</td>\n",
       "      <td>Entertainment</td>\n",
       "    </tr>\n",
       "  </tbody>\n",
       "</table>\n",
       "<p>1400785 rows × 18 columns</p>\n",
       "</div>"
      ],
      "text/plain": [
       "            video_id                                              title  \\\n",
       "0        s9FH4rDMvds     LEVEI UM FORA? FINGI ESTAR APAIXONADO POR ELA!   \n",
       "1        jbGRowa5tIk                          ITZY “Not Shy” M/V TEASER   \n",
       "2        3EfkCrXKZNs                      Oh Juliana PARÓDIA - MC Niack   \n",
       "3        gBjox7vn3-g   Contos de Runeterra: Targon | A Estrada Tortuosa   \n",
       "4        npoUGx7UW7o  Entrevista com Thammy Miranda | The Noite (10/...   \n",
       "...              ...                                                ...   \n",
       "1400780  6j-NPPU2-0Q  Mommy Long Legs is Done Playing || Poppy Playt...   \n",
       "1400781  8zewhuMqKtY           Hotboy Wes - Dear Mr. Boosie [Freestyle]   \n",
       "1400782  TSqYrgnbYrY                       EXTREME Balloon Pop Racing!!   \n",
       "1400783  XUlKykxmIGk             FINDING OUT IM PREGNANT + TELLING ALEX   \n",
       "1400784  aKn-Cf6PtTU          Youtuber, Kevin Samuels Passes Away at 56   \n",
       "\n",
       "                  publishedAt                 channelId  \\\n",
       "0        2020-08-11T22:21:49Z  UCGfBwrCoi9ZJjKiUK8MmJNw   \n",
       "1        2020-08-11T15:00:13Z  UCaO6TYtlC8U5ttz62hTrZgg   \n",
       "2        2020-08-10T14:59:00Z  UCoXZmVma073v5G1cW82UKkA   \n",
       "3        2020-08-11T15:00:09Z  UC6Xqz2pm50gDCORYztqhDpg   \n",
       "4        2020-08-11T20:04:02Z  UCEWOoncsrmirqnFqxer9lmA   \n",
       "...                       ...                       ...   \n",
       "1400780  2022-05-06T18:00:02Z  UChL4WU9YLlxXXNSwlzM1-7g   \n",
       "1400781  2022-05-04T19:00:02Z  UCoA8xyJ0qoXww3U5aAiH2hQ   \n",
       "1400782  2022-05-06T22:00:12Z  UC5f5IV0Bf79YLp_p9nfInRA   \n",
       "1400783  2022-05-04T20:02:25Z  UCDSJCBYqL7VQrlXfhr1RtwA   \n",
       "1400784  2022-05-06T12:52:02Z  UChi08h4577eFsNXGd3sxYhw   \n",
       "\n",
       "                          channelTitle categoryId         trending_date  \\\n",
       "0                        Pietro Guedes         22  2020-08-12T00:00:00Z   \n",
       "1                    JYP Entertainment         10  2020-08-12T00:00:00Z   \n",
       "2                        As Irmãs Mota         22  2020-08-12T00:00:00Z   \n",
       "3                 League of Legends BR         20  2020-08-12T00:00:00Z   \n",
       "4         The Noite com Danilo Gentili         23  2020-08-12T00:00:00Z   \n",
       "...                                ...        ...                   ...   \n",
       "1400780                 SuperHorrorBro         20  2022-05-11T00:00:00Z   \n",
       "1400781                     Hotboy Wes         22  2022-05-11T00:00:00Z   \n",
       "1400782                 How Ridiculous         17  2022-05-11T00:00:00Z   \n",
       "1400783                  Les Do Makeup         26  2022-05-11T00:00:00Z   \n",
       "1400784  Breakfast Club Power 105.1 FM         24  2022-05-11T00:00:00Z   \n",
       "\n",
       "                                                      tags  view_count  \\\n",
       "0        pietro|guedes|ingrid|ohara|pingrid|vlog|amigos...      263835   \n",
       "1        JYP Entertainment|JYP|ITZY|있지|ITZY Video|ITZY ...     6000070   \n",
       "2        OH JULIANA PARÓDIA|MC Niack PARÓDIA|PARÓDIAS|A...     2296748   \n",
       "3        Riot|Riot Games|League of Legends|lol|trailer|...      300510   \n",
       "4        The Noite|The Noite com Danilo Gentili|Danilo ...      327235   \n",
       "...                                                    ...         ...   \n",
       "1400780  poppy playtime chapter 2|poppy playtime ch 2|p...      836262   \n",
       "1400781  Hotboy Wes|BigWalkDog|Studio|Studio Life|Miami...      547202   \n",
       "1400782                         how ridiculous|rexy|44club     1240347   \n",
       "1400783                                             [None]     1186684   \n",
       "1400784  the breakfast club|breakfast club|power1051|ce...      574351   \n",
       "\n",
       "          likes  dislikes  comment_count  \\\n",
       "0         85095       487           4500   \n",
       "1        714310     15176          31040   \n",
       "2         39761      5484              0   \n",
       "3         46222       242           2748   \n",
       "4         22059      3972           2751   \n",
       "...         ...       ...            ...   \n",
       "1400780   30278         0           2518   \n",
       "1400781   30145         0           1759   \n",
       "1400782   65689         0           2087   \n",
       "1400783   95477         0          10131   \n",
       "1400784    9622         0           5981   \n",
       "\n",
       "                                         thumbnail_link  comments_disabled  \\\n",
       "0        https://i.ytimg.com/vi/s9FH4rDMvds/default.jpg              False   \n",
       "1        https://i.ytimg.com/vi/jbGRowa5tIk/default.jpg              False   \n",
       "2        https://i.ytimg.com/vi/3EfkCrXKZNs/default.jpg               True   \n",
       "3        https://i.ytimg.com/vi/gBjox7vn3-g/default.jpg              False   \n",
       "4        https://i.ytimg.com/vi/npoUGx7UW7o/default.jpg              False   \n",
       "...                                                 ...                ...   \n",
       "1400780  https://i.ytimg.com/vi/6j-NPPU2-0Q/default.jpg              False   \n",
       "1400781  https://i.ytimg.com/vi/8zewhuMqKtY/default.jpg              False   \n",
       "1400782  https://i.ytimg.com/vi/TSqYrgnbYrY/default.jpg              False   \n",
       "1400783  https://i.ytimg.com/vi/XUlKykxmIGk/default.jpg              False   \n",
       "1400784  https://i.ytimg.com/vi/aKn-Cf6PtTU/default.jpg              False   \n",
       "\n",
       "         ratings_disabled                                        description  \\\n",
       "0                   False  Salve rapaziada, neste vídeo me declarei pra e...   \n",
       "1                   False  ITZY Not Shy M/V[ITZY Official] https://www.yo...   \n",
       "2                   False  Se inscrevam meus amores! 📬 Quer nos mandar al...   \n",
       "3                   False  Você se unirá aos Lunari e aos Solari em Targo...   \n",
       "4                   False  Danilo Gentili recebe Thammy Miranda. Após pas...   \n",
       "...                   ...                                                ...   \n",
       "1400780             False  Poppy Playtime: Chapter 2 has arrived. This is...   \n",
       "1400781             False  Hotboy Wes - Dear Mr. BoosieDownload/Stream:Su...   \n",
       "1400782             False  How FUN are balloon popping races?!Use code ST...   \n",
       "1400783             False  Hi babygirls! Thank you so much for watching, ...   \n",
       "1400784             False  Subscribe NOW to The Breakfast Club: http://ih...   \n",
       "\n",
       "        country        Category  \n",
       "0            BR  People & Blogs  \n",
       "1            BR           Music  \n",
       "2            BR  People & Blogs  \n",
       "3            BR          Gaming  \n",
       "4            BR          Comedy  \n",
       "...         ...             ...  \n",
       "1400780      US          Gaming  \n",
       "1400781      US  People & Blogs  \n",
       "1400782      US          Sports  \n",
       "1400783      US   Howto & Style  \n",
       "1400784      US   Entertainment  \n",
       "\n",
       "[1400785 rows x 18 columns]"
      ]
     },
     "execution_count": 9,
     "metadata": {},
     "output_type": "execute_result"
    }
   ],
   "source": [
    "df_final"
   ]
  },
  {
   "cell_type": "code",
   "execution_count": 10,
   "metadata": {
    "execution": {
     "iopub.execute_input": "2022-11-07T23:11:07.528198Z",
     "iopub.status.busy": "2022-11-07T23:11:07.527854Z",
     "iopub.status.idle": "2022-11-07T23:11:07.544734Z",
     "shell.execute_reply": "2022-11-07T23:11:07.543675Z",
     "shell.execute_reply.started": "2022-11-07T23:11:07.528164Z"
    }
   },
   "outputs": [
    {
     "name": "stdout",
     "output_type": "stream",
     "text": [
      "<class 'pandas.core.frame.DataFrame'>\n",
      "RangeIndex: 1400785 entries, 0 to 1400784\n",
      "Data columns (total 18 columns):\n",
      " #   Column             Non-Null Count    Dtype \n",
      "---  ------             --------------    ----- \n",
      " 0   video_id           1400785 non-null  object\n",
      " 1   title              1400785 non-null  object\n",
      " 2   publishedAt        1400785 non-null  object\n",
      " 3   channelId          1400785 non-null  object\n",
      " 4   channelTitle       1400784 non-null  object\n",
      " 5   categoryId         1400785 non-null  object\n",
      " 6   trending_date      1400785 non-null  object\n",
      " 7   tags               1400785 non-null  object\n",
      " 8   view_count         1400785 non-null  int64 \n",
      " 9   likes              1400785 non-null  int64 \n",
      " 10  dislikes           1400785 non-null  int64 \n",
      " 11  comment_count      1400785 non-null  int64 \n",
      " 12  thumbnail_link     1400785 non-null  object\n",
      " 13  comments_disabled  1400785 non-null  bool  \n",
      " 14  ratings_disabled   1400785 non-null  bool  \n",
      " 15  description        1351886 non-null  object\n",
      " 16  country            1400785 non-null  object\n",
      " 17  Category           1400785 non-null  object\n",
      "dtypes: bool(2), int64(4), object(12)\n",
      "memory usage: 173.7+ MB\n"
     ]
    }
   ],
   "source": [
    "df_final.info()"
   ]
  },
  {
   "cell_type": "markdown",
   "metadata": {},
   "source": [
    "# Data analysis"
   ]
  },
  {
   "cell_type": "code",
   "execution_count": 11,
   "metadata": {
    "execution": {
     "iopub.execute_input": "2022-11-07T23:11:07.546673Z",
     "iopub.status.busy": "2022-11-07T23:11:07.546301Z",
     "iopub.status.idle": "2022-11-07T23:11:10.249195Z",
     "shell.execute_reply": "2022-11-07T23:11:10.248247Z",
     "shell.execute_reply.started": "2022-11-07T23:11:07.546639Z"
    }
   },
   "outputs": [
    {
     "name": "stdout",
     "output_type": "stream",
     "text": [
      "Number of nulls in each column:\n"
     ]
    },
    {
     "data": {
      "text/plain": [
       "video_id                  0\n",
       "title                     0\n",
       "publishedAt               0\n",
       "channelId                 0\n",
       "channelTitle              1\n",
       "categoryId                0\n",
       "trending_date             0\n",
       "tags                 224317\n",
       "view_count                0\n",
       "likes                     0\n",
       "dislikes                  0\n",
       "comment_count             0\n",
       "thumbnail_link            0\n",
       "comments_disabled         0\n",
       "ratings_disabled          0\n",
       "description           48899\n",
       "country                   0\n",
       "Category                  0\n",
       "dtype: int64"
      ]
     },
     "execution_count": 11,
     "metadata": {},
     "output_type": "execute_result"
    },
    {
     "data": {
      "text/html": [
       "<div>\n",
       "<style scoped>\n",
       "    .dataframe tbody tr th:only-of-type {\n",
       "        vertical-align: middle;\n",
       "    }\n",
       "\n",
       "    .dataframe tbody tr th {\n",
       "        vertical-align: top;\n",
       "    }\n",
       "\n",
       "    .dataframe thead th {\n",
       "        text-align: right;\n",
       "    }\n",
       "</style>\n",
       "<table border=\"1\" class=\"dataframe\">\n",
       "  <thead>\n",
       "    <tr style=\"text-align: right;\">\n",
       "      <th></th>\n",
       "      <th>Total missing</th>\n",
       "      <th>% missing</th>\n",
       "    </tr>\n",
       "  </thead>\n",
       "  <tbody>\n",
       "    <tr>\n",
       "      <th>tags</th>\n",
       "      <td>224317</td>\n",
       "      <td>16.013664</td>\n",
       "    </tr>\n",
       "    <tr>\n",
       "      <th>description</th>\n",
       "      <td>48899</td>\n",
       "      <td>3.490828</td>\n",
       "    </tr>\n",
       "    <tr>\n",
       "      <th>channelTitle</th>\n",
       "      <td>1</td>\n",
       "      <td>0.000071</td>\n",
       "    </tr>\n",
       "    <tr>\n",
       "      <th>video_id</th>\n",
       "      <td>0</td>\n",
       "      <td>0.000000</td>\n",
       "    </tr>\n",
       "    <tr>\n",
       "      <th>dislikes</th>\n",
       "      <td>0</td>\n",
       "      <td>0.000000</td>\n",
       "    </tr>\n",
       "    <tr>\n",
       "      <th>country</th>\n",
       "      <td>0</td>\n",
       "      <td>0.000000</td>\n",
       "    </tr>\n",
       "    <tr>\n",
       "      <th>ratings_disabled</th>\n",
       "      <td>0</td>\n",
       "      <td>0.000000</td>\n",
       "    </tr>\n",
       "    <tr>\n",
       "      <th>comments_disabled</th>\n",
       "      <td>0</td>\n",
       "      <td>0.000000</td>\n",
       "    </tr>\n",
       "    <tr>\n",
       "      <th>thumbnail_link</th>\n",
       "      <td>0</td>\n",
       "      <td>0.000000</td>\n",
       "    </tr>\n",
       "    <tr>\n",
       "      <th>comment_count</th>\n",
       "      <td>0</td>\n",
       "      <td>0.000000</td>\n",
       "    </tr>\n",
       "    <tr>\n",
       "      <th>likes</th>\n",
       "      <td>0</td>\n",
       "      <td>0.000000</td>\n",
       "    </tr>\n",
       "    <tr>\n",
       "      <th>title</th>\n",
       "      <td>0</td>\n",
       "      <td>0.000000</td>\n",
       "    </tr>\n",
       "    <tr>\n",
       "      <th>view_count</th>\n",
       "      <td>0</td>\n",
       "      <td>0.000000</td>\n",
       "    </tr>\n",
       "    <tr>\n",
       "      <th>trending_date</th>\n",
       "      <td>0</td>\n",
       "      <td>0.000000</td>\n",
       "    </tr>\n",
       "    <tr>\n",
       "      <th>categoryId</th>\n",
       "      <td>0</td>\n",
       "      <td>0.000000</td>\n",
       "    </tr>\n",
       "    <tr>\n",
       "      <th>channelId</th>\n",
       "      <td>0</td>\n",
       "      <td>0.000000</td>\n",
       "    </tr>\n",
       "    <tr>\n",
       "      <th>publishedAt</th>\n",
       "      <td>0</td>\n",
       "      <td>0.000000</td>\n",
       "    </tr>\n",
       "    <tr>\n",
       "      <th>Category</th>\n",
       "      <td>0</td>\n",
       "      <td>0.000000</td>\n",
       "    </tr>\n",
       "  </tbody>\n",
       "</table>\n",
       "</div>"
      ],
      "text/plain": [
       "                   Total missing  % missing\n",
       "tags                      224317  16.013664\n",
       "description                48899   3.490828\n",
       "channelTitle                   1   0.000071\n",
       "video_id                       0   0.000000\n",
       "dislikes                       0   0.000000\n",
       "country                        0   0.000000\n",
       "ratings_disabled               0   0.000000\n",
       "comments_disabled              0   0.000000\n",
       "thumbnail_link                 0   0.000000\n",
       "comment_count                  0   0.000000\n",
       "likes                          0   0.000000\n",
       "title                          0   0.000000\n",
       "view_count                     0   0.000000\n",
       "trending_date                  0   0.000000\n",
       "categoryId                     0   0.000000\n",
       "channelId                      0   0.000000\n",
       "publishedAt                    0   0.000000\n",
       "Category                       0   0.000000"
      ]
     },
     "execution_count": 11,
     "metadata": {},
     "output_type": "execute_result"
    }
   ],
   "source": [
    "# summary of the number of nulls\n",
    "df_final.tags=df_final.tags.replace('[None]',np.nan)\n",
    "print('Number of nulls in each column:')\n",
    "df_final.isna().sum()\n",
    "\n",
    "# count the ratio of missing values\n",
    "total_miss = df_final.isnull().sum()\n",
    "percent_miss = (total_miss/df_final.isnull().count()*100)\n",
    "\n",
    "# sort attributes by missing value ratio\n",
    "missing_data = pd.DataFrame({'Total missing':total_miss,'% missing':percent_miss})\n",
    "missing_data.sort_values(by='Total missing',ascending=False)"
   ]
  },
  {
   "cell_type": "code",
   "execution_count": 12,
   "metadata": {
    "execution": {
     "iopub.execute_input": "2022-11-07T23:11:10.251322Z",
     "iopub.status.busy": "2022-11-07T23:11:10.250666Z",
     "iopub.status.idle": "2022-11-07T23:11:28.826217Z",
     "shell.execute_reply": "2022-11-07T23:11:28.825283Z",
     "shell.execute_reply.started": "2022-11-07T23:11:10.251285Z"
    },
    "scrolled": true
   },
   "outputs": [
    {
     "data": {
      "text/plain": [
       "<matplotlib.axes._subplots.AxesSubplot at 0x20eb40c3708>"
      ]
     },
     "execution_count": 12,
     "metadata": {},
     "output_type": "execute_result"
    },
    {
     "data": {
      "text/plain": [
       "<matplotlib.axes._subplots.AxesSubplot at 0x20ea5f76ec8>"
      ]
     },
     "execution_count": 12,
     "metadata": {},
     "output_type": "execute_result"
    },
    {
     "data": {
      "text/plain": [
       "<matplotlib.axes._subplots.AxesSubplot at 0x20ea6008a88>"
      ]
     },
     "execution_count": 12,
     "metadata": {},
     "output_type": "execute_result"
    },
    {
     "data": {
      "text/plain": [
       "<matplotlib.axes._subplots.AxesSubplot at 0x20ea7b4ba08>"
      ]
     },
     "execution_count": 12,
     "metadata": {},
     "output_type": "execute_result"
    },
    {
     "data": {
      "image/png": "[encoded data removed]",
      "text/plain": [
       "<Figure size 1800x720 with 3 Axes>"
      ]
     },
     "metadata": {},
     "output_type": "display_data"
    },
    {
     "data": {
      "image/png": "[encoded data removed]",
      "text/plain": [
       "<Figure size 1800x720 with 1 Axes>"
      ]
     },
     "metadata": {},
     "output_type": "display_data"
    },
    {
     "data": {
      "image/png": "[encoded data removed]",
      "text/plain": [
       "<Figure size 1800x720 with 2 Axes>"
      ]
     },
     "metadata": {},
     "output_type": "display_data"
    },
    {
     "data": {
      "image/png": "[encoded data removed]",
      "text/plain": [
       "<Figure size 1440x864 with 2 Axes>"
      ]
     },
     "metadata": {},
     "output_type": "display_data"
    }
   ],
   "source": [
    "# Use missingno library to generate plots\n",
    "#bar chart\n",
    "msno.bar(df_final)\n",
    "#dendrogram plot\n",
    "msno.dendrogram(df_final)\n",
    "#visualize missing values as a matrix\n",
    "msno.matrix(df_final)\n",
    "#heapmap for correlation analysis\n",
    "msno.heatmap(df_final)"
   ]
  },
  {
   "cell_type": "code",
   "execution_count": 13,
   "metadata": {
    "execution": {
     "iopub.execute_input": "2022-11-07T23:11:28.828274Z",
     "iopub.status.busy": "2022-11-07T23:11:28.827919Z",
     "iopub.status.idle": "2022-11-07T23:11:46.664805Z",
     "shell.execute_reply": "2022-11-07T23:11:46.663794Z",
     "shell.execute_reply.started": "2022-11-07T23:11:28.828238Z"
    },
    "scrolled": true
   },
   "outputs": [
    {
     "name": "stdout",
     "output_type": "stream",
     "text": [
      "Check any duplicated\n"
     ]
    },
    {
     "data": {
      "text/plain": [
       "0          False\n",
       "1          False\n",
       "2          False\n",
       "3          False\n",
       "4          False\n",
       "           ...  \n",
       "1400780    False\n",
       "1400781    False\n",
       "1400782    False\n",
       "1400783    False\n",
       "1400784    False\n",
       "Length: 1400785, dtype: bool"
      ]
     },
     "execution_count": 13,
     "metadata": {},
     "output_type": "execute_result"
    },
    {
     "name": "stdout",
     "output_type": "stream",
     "text": [
      "\n",
      "Sum of duplicated records =  1223\n",
      "\n",
      "________________________________________________________________\n",
      "\n",
      "Sum of duplicated records after dropping=  0\n"
     ]
    }
   ],
   "source": [
    "# any duplicate records?\n",
    "# use the DataFrame.duplicated() method to return a series of boolean values\n",
    "print('Check any duplicated')\n",
    "df_final.duplicated()\n",
    "print('\\nSum of duplicated records = ', df_final.duplicated().sum())\n",
    "print('\\n________________________________________________________________')\n",
    "# print the duplicated records as dataframe\n",
    "dublicated = df_final[df_final.duplicated()]\n",
    "# drop any duplicates\n",
    "df_final = df_final.drop_duplicates()\n",
    "print('\\nSum of duplicated records after dropping= ', df_final.duplicated().sum())"
   ]
  },
  {
   "cell_type": "code",
   "execution_count": 14,
   "metadata": {
    "execution": {
     "iopub.execute_input": "2022-11-07T23:11:46.669692Z",
     "iopub.status.busy": "2022-11-07T23:11:46.669385Z",
     "iopub.status.idle": "2022-11-07T23:11:49.011097Z",
     "shell.execute_reply": "2022-11-07T23:11:49.010106Z",
     "shell.execute_reply.started": "2022-11-07T23:11:46.669664Z"
    },
    "scrolled": true
   },
   "outputs": [],
   "source": [
    "# organize the date columns\n",
    "df_final['trending_date'] = pd.to_datetime(df_final['trending_date'], format='%Y-%m-%d').apply(lambda x : x.date)\n",
    "df_final['publishedAt'] = pd.to_datetime(df_final['publishedAt'], format='%Y-%m-%dT%H:%M:%SZ')"
   ]
  },
  {
   "cell_type": "code",
   "execution_count": 15,
   "metadata": {
    "execution": {
     "iopub.execute_input": "2022-11-07T23:11:49.012855Z",
     "iopub.status.busy": "2022-11-07T23:11:49.012471Z",
     "iopub.status.idle": "2022-11-07T23:11:49.039270Z",
     "shell.execute_reply": "2022-11-07T23:11:49.038361Z",
     "shell.execute_reply.started": "2022-11-07T23:11:49.012804Z"
    }
   },
   "outputs": [
    {
     "data": {
      "text/html": [
       "<div>\n",
       "<style scoped>\n",
       "    .dataframe tbody tr th:only-of-type {\n",
       "        vertical-align: middle;\n",
       "    }\n",
       "\n",
       "    .dataframe tbody tr th {\n",
       "        vertical-align: top;\n",
       "    }\n",
       "\n",
       "    .dataframe thead th {\n",
       "        text-align: right;\n",
       "    }\n",
       "</style>\n",
       "<table border=\"1\" class=\"dataframe\">\n",
       "  <thead>\n",
       "    <tr style=\"text-align: right;\">\n",
       "      <th></th>\n",
       "      <th>video_id</th>\n",
       "      <th>title</th>\n",
       "      <th>publishedAt</th>\n",
       "      <th>channelId</th>\n",
       "      <th>channelTitle</th>\n",
       "      <th>categoryId</th>\n",
       "      <th>trending_date</th>\n",
       "      <th>tags</th>\n",
       "      <th>view_count</th>\n",
       "      <th>likes</th>\n",
       "      <th>dislikes</th>\n",
       "      <th>comment_count</th>\n",
       "      <th>thumbnail_link</th>\n",
       "      <th>comments_disabled</th>\n",
       "      <th>ratings_disabled</th>\n",
       "      <th>description</th>\n",
       "      <th>country</th>\n",
       "      <th>Category</th>\n",
       "    </tr>\n",
       "  </thead>\n",
       "  <tbody>\n",
       "    <tr>\n",
       "      <th>0</th>\n",
       "      <td>s9FH4rDMvds</td>\n",
       "      <td>LEVEI UM FORA? FINGI ESTAR APAIXONADO POR ELA!</td>\n",
       "      <td>2020-08-11 22:21:49</td>\n",
       "      <td>UCGfBwrCoi9ZJjKiUK8MmJNw</td>\n",
       "      <td>Pietro Guedes</td>\n",
       "      <td>22</td>\n",
       "      <td>2020-08-12</td>\n",
       "      <td>pietro|guedes|ingrid|ohara|pingrid|vlog|amigos...</td>\n",
       "      <td>263835</td>\n",
       "      <td>85095</td>\n",
       "      <td>487</td>\n",
       "      <td>4500</td>\n",
       "      <td>https://i.ytimg.com/vi/s9FH4rDMvds/default.jpg</td>\n",
       "      <td>False</td>\n",
       "      <td>False</td>\n",
       "      <td>Salve rapaziada, neste vídeo me declarei pra e...</td>\n",
       "      <td>BR</td>\n",
       "      <td>People &amp; Blogs</td>\n",
       "    </tr>\n",
       "    <tr>\n",
       "      <th>1</th>\n",
       "      <td>jbGRowa5tIk</td>\n",
       "      <td>ITZY “Not Shy” M/V TEASER</td>\n",
       "      <td>2020-08-11 15:00:13</td>\n",
       "      <td>UCaO6TYtlC8U5ttz62hTrZgg</td>\n",
       "      <td>JYP Entertainment</td>\n",
       "      <td>10</td>\n",
       "      <td>2020-08-12</td>\n",
       "      <td>JYP Entertainment|JYP|ITZY|있지|ITZY Video|ITZY ...</td>\n",
       "      <td>6000070</td>\n",
       "      <td>714310</td>\n",
       "      <td>15176</td>\n",
       "      <td>31040</td>\n",
       "      <td>https://i.ytimg.com/vi/jbGRowa5tIk/default.jpg</td>\n",
       "      <td>False</td>\n",
       "      <td>False</td>\n",
       "      <td>ITZY Not Shy M/V[ITZY Official] https://www.yo...</td>\n",
       "      <td>BR</td>\n",
       "      <td>Music</td>\n",
       "    </tr>\n",
       "    <tr>\n",
       "      <th>2</th>\n",
       "      <td>3EfkCrXKZNs</td>\n",
       "      <td>Oh Juliana PARÓDIA - MC Niack</td>\n",
       "      <td>2020-08-10 14:59:00</td>\n",
       "      <td>UCoXZmVma073v5G1cW82UKkA</td>\n",
       "      <td>As Irmãs Mota</td>\n",
       "      <td>22</td>\n",
       "      <td>2020-08-12</td>\n",
       "      <td>OH JULIANA PARÓDIA|MC Niack PARÓDIA|PARÓDIAS|A...</td>\n",
       "      <td>2296748</td>\n",
       "      <td>39761</td>\n",
       "      <td>5484</td>\n",
       "      <td>0</td>\n",
       "      <td>https://i.ytimg.com/vi/3EfkCrXKZNs/default.jpg</td>\n",
       "      <td>True</td>\n",
       "      <td>False</td>\n",
       "      <td>Se inscrevam meus amores! 📬 Quer nos mandar al...</td>\n",
       "      <td>BR</td>\n",
       "      <td>People &amp; Blogs</td>\n",
       "    </tr>\n",
       "    <tr>\n",
       "      <th>3</th>\n",
       "      <td>gBjox7vn3-g</td>\n",
       "      <td>Contos de Runeterra: Targon | A Estrada Tortuosa</td>\n",
       "      <td>2020-08-11 15:00:09</td>\n",
       "      <td>UC6Xqz2pm50gDCORYztqhDpg</td>\n",
       "      <td>League of Legends BR</td>\n",
       "      <td>20</td>\n",
       "      <td>2020-08-12</td>\n",
       "      <td>Riot|Riot Games|League of Legends|lol|trailer|...</td>\n",
       "      <td>300510</td>\n",
       "      <td>46222</td>\n",
       "      <td>242</td>\n",
       "      <td>2748</td>\n",
       "      <td>https://i.ytimg.com/vi/gBjox7vn3-g/default.jpg</td>\n",
       "      <td>False</td>\n",
       "      <td>False</td>\n",
       "      <td>Você se unirá aos Lunari e aos Solari em Targo...</td>\n",
       "      <td>BR</td>\n",
       "      <td>Gaming</td>\n",
       "    </tr>\n",
       "    <tr>\n",
       "      <th>4</th>\n",
       "      <td>npoUGx7UW7o</td>\n",
       "      <td>Entrevista com Thammy Miranda | The Noite (10/...</td>\n",
       "      <td>2020-08-11 20:04:02</td>\n",
       "      <td>UCEWOoncsrmirqnFqxer9lmA</td>\n",
       "      <td>The Noite com Danilo Gentili</td>\n",
       "      <td>23</td>\n",
       "      <td>2020-08-12</td>\n",
       "      <td>The Noite|The Noite com Danilo Gentili|Danilo ...</td>\n",
       "      <td>327235</td>\n",
       "      <td>22059</td>\n",
       "      <td>3972</td>\n",
       "      <td>2751</td>\n",
       "      <td>https://i.ytimg.com/vi/npoUGx7UW7o/default.jpg</td>\n",
       "      <td>False</td>\n",
       "      <td>False</td>\n",
       "      <td>Danilo Gentili recebe Thammy Miranda. Após pas...</td>\n",
       "      <td>BR</td>\n",
       "      <td>Comedy</td>\n",
       "    </tr>\n",
       "    <tr>\n",
       "      <th>...</th>\n",
       "      <td>...</td>\n",
       "      <td>...</td>\n",
       "      <td>...</td>\n",
       "      <td>...</td>\n",
       "      <td>...</td>\n",
       "      <td>...</td>\n",
       "      <td>...</td>\n",
       "      <td>...</td>\n",
       "      <td>...</td>\n",
       "      <td>...</td>\n",
       "      <td>...</td>\n",
       "      <td>...</td>\n",
       "      <td>...</td>\n",
       "      <td>...</td>\n",
       "      <td>...</td>\n",
       "      <td>...</td>\n",
       "      <td>...</td>\n",
       "      <td>...</td>\n",
       "    </tr>\n",
       "    <tr>\n",
       "      <th>1400780</th>\n",
       "      <td>6j-NPPU2-0Q</td>\n",
       "      <td>Mommy Long Legs is Done Playing || Poppy Playt...</td>\n",
       "      <td>2022-05-06 18:00:02</td>\n",
       "      <td>UChL4WU9YLlxXXNSwlzM1-7g</td>\n",
       "      <td>SuperHorrorBro</td>\n",
       "      <td>20</td>\n",
       "      <td>2022-05-11</td>\n",
       "      <td>poppy playtime chapter 2|poppy playtime ch 2|p...</td>\n",
       "      <td>836262</td>\n",
       "      <td>30278</td>\n",
       "      <td>0</td>\n",
       "      <td>2518</td>\n",
       "      <td>https://i.ytimg.com/vi/6j-NPPU2-0Q/default.jpg</td>\n",
       "      <td>False</td>\n",
       "      <td>False</td>\n",
       "      <td>Poppy Playtime: Chapter 2 has arrived. This is...</td>\n",
       "      <td>US</td>\n",
       "      <td>Gaming</td>\n",
       "    </tr>\n",
       "    <tr>\n",
       "      <th>1400781</th>\n",
       "      <td>8zewhuMqKtY</td>\n",
       "      <td>Hotboy Wes - Dear Mr. Boosie [Freestyle]</td>\n",
       "      <td>2022-05-04 19:00:02</td>\n",
       "      <td>UCoA8xyJ0qoXww3U5aAiH2hQ</td>\n",
       "      <td>Hotboy Wes</td>\n",
       "      <td>22</td>\n",
       "      <td>2022-05-11</td>\n",
       "      <td>Hotboy Wes|BigWalkDog|Studio|Studio Life|Miami...</td>\n",
       "      <td>547202</td>\n",
       "      <td>30145</td>\n",
       "      <td>0</td>\n",
       "      <td>1759</td>\n",
       "      <td>https://i.ytimg.com/vi/8zewhuMqKtY/default.jpg</td>\n",
       "      <td>False</td>\n",
       "      <td>False</td>\n",
       "      <td>Hotboy Wes - Dear Mr. BoosieDownload/Stream:Su...</td>\n",
       "      <td>US</td>\n",
       "      <td>People &amp; Blogs</td>\n",
       "    </tr>\n",
       "    <tr>\n",
       "      <th>1400782</th>\n",
       "      <td>TSqYrgnbYrY</td>\n",
       "      <td>EXTREME Balloon Pop Racing!!</td>\n",
       "      <td>2022-05-06 22:00:12</td>\n",
       "      <td>UC5f5IV0Bf79YLp_p9nfInRA</td>\n",
       "      <td>How Ridiculous</td>\n",
       "      <td>17</td>\n",
       "      <td>2022-05-11</td>\n",
       "      <td>how ridiculous|rexy|44club</td>\n",
       "      <td>1240347</td>\n",
       "      <td>65689</td>\n",
       "      <td>0</td>\n",
       "      <td>2087</td>\n",
       "      <td>https://i.ytimg.com/vi/TSqYrgnbYrY/default.jpg</td>\n",
       "      <td>False</td>\n",
       "      <td>False</td>\n",
       "      <td>How FUN are balloon popping races?!Use code ST...</td>\n",
       "      <td>US</td>\n",
       "      <td>Sports</td>\n",
       "    </tr>\n",
       "    <tr>\n",
       "      <th>1400783</th>\n",
       "      <td>XUlKykxmIGk</td>\n",
       "      <td>FINDING OUT IM PREGNANT + TELLING ALEX</td>\n",
       "      <td>2022-05-04 20:02:25</td>\n",
       "      <td>UCDSJCBYqL7VQrlXfhr1RtwA</td>\n",
       "      <td>Les Do Makeup</td>\n",
       "      <td>26</td>\n",
       "      <td>2022-05-11</td>\n",
       "      <td>NaN</td>\n",
       "      <td>1186684</td>\n",
       "      <td>95477</td>\n",
       "      <td>0</td>\n",
       "      <td>10131</td>\n",
       "      <td>https://i.ytimg.com/vi/XUlKykxmIGk/default.jpg</td>\n",
       "      <td>False</td>\n",
       "      <td>False</td>\n",
       "      <td>Hi babygirls! Thank you so much for watching, ...</td>\n",
       "      <td>US</td>\n",
       "      <td>Howto &amp; Style</td>\n",
       "    </tr>\n",
       "    <tr>\n",
       "      <th>1400784</th>\n",
       "      <td>aKn-Cf6PtTU</td>\n",
       "      <td>Youtuber, Kevin Samuels Passes Away at 56</td>\n",
       "      <td>2022-05-06 12:52:02</td>\n",
       "      <td>UChi08h4577eFsNXGd3sxYhw</td>\n",
       "      <td>Breakfast Club Power 105.1 FM</td>\n",
       "      <td>24</td>\n",
       "      <td>2022-05-11</td>\n",
       "      <td>the breakfast club|breakfast club|power1051|ce...</td>\n",
       "      <td>574351</td>\n",
       "      <td>9622</td>\n",
       "      <td>0</td>\n",
       "      <td>5981</td>\n",
       "      <td>https://i.ytimg.com/vi/aKn-Cf6PtTU/default.jpg</td>\n",
       "      <td>False</td>\n",
       "      <td>False</td>\n",
       "      <td>Subscribe NOW to The Breakfast Club: http://ih...</td>\n",
       "      <td>US</td>\n",
       "      <td>Entertainment</td>\n",
       "    </tr>\n",
       "  </tbody>\n",
       "</table>\n",
       "<p>1399562 rows × 18 columns</p>\n",
       "</div>"
      ],
      "text/plain": [
       "            video_id                                              title  \\\n",
       "0        s9FH4rDMvds     LEVEI UM FORA? FINGI ESTAR APAIXONADO POR ELA!   \n",
       "1        jbGRowa5tIk                          ITZY “Not Shy” M/V TEASER   \n",
       "2        3EfkCrXKZNs                      Oh Juliana PARÓDIA - MC Niack   \n",
       "3        gBjox7vn3-g   Contos de Runeterra: Targon | A Estrada Tortuosa   \n",
       "4        npoUGx7UW7o  Entrevista com Thammy Miranda | The Noite (10/...   \n",
       "...              ...                                                ...   \n",
       "1400780  6j-NPPU2-0Q  Mommy Long Legs is Done Playing || Poppy Playt...   \n",
       "1400781  8zewhuMqKtY           Hotboy Wes - Dear Mr. Boosie [Freestyle]   \n",
       "1400782  TSqYrgnbYrY                       EXTREME Balloon Pop Racing!!   \n",
       "1400783  XUlKykxmIGk             FINDING OUT IM PREGNANT + TELLING ALEX   \n",
       "1400784  aKn-Cf6PtTU          Youtuber, Kevin Samuels Passes Away at 56   \n",
       "\n",
       "                publishedAt                 channelId  \\\n",
       "0       2020-08-11 22:21:49  UCGfBwrCoi9ZJjKiUK8MmJNw   \n",
       "1       2020-08-11 15:00:13  UCaO6TYtlC8U5ttz62hTrZgg   \n",
       "2       2020-08-10 14:59:00  UCoXZmVma073v5G1cW82UKkA   \n",
       "3       2020-08-11 15:00:09  UC6Xqz2pm50gDCORYztqhDpg   \n",
       "4       2020-08-11 20:04:02  UCEWOoncsrmirqnFqxer9lmA   \n",
       "...                     ...                       ...   \n",
       "1400780 2022-05-06 18:00:02  UChL4WU9YLlxXXNSwlzM1-7g   \n",
       "1400781 2022-05-04 19:00:02  UCoA8xyJ0qoXww3U5aAiH2hQ   \n",
       "1400782 2022-05-06 22:00:12  UC5f5IV0Bf79YLp_p9nfInRA   \n",
       "1400783 2022-05-04 20:02:25  UCDSJCBYqL7VQrlXfhr1RtwA   \n",
       "1400784 2022-05-06 12:52:02  UChi08h4577eFsNXGd3sxYhw   \n",
       "\n",
       "                          channelTitle categoryId trending_date  \\\n",
       "0                        Pietro Guedes         22    2020-08-12   \n",
       "1                    JYP Entertainment         10    2020-08-12   \n",
       "2                        As Irmãs Mota         22    2020-08-12   \n",
       "3                 League of Legends BR         20    2020-08-12   \n",
       "4         The Noite com Danilo Gentili         23    2020-08-12   \n",
       "...                                ...        ...           ...   \n",
       "1400780                 SuperHorrorBro         20    2022-05-11   \n",
       "1400781                     Hotboy Wes         22    2022-05-11   \n",
       "1400782                 How Ridiculous         17    2022-05-11   \n",
       "1400783                  Les Do Makeup         26    2022-05-11   \n",
       "1400784  Breakfast Club Power 105.1 FM         24    2022-05-11   \n",
       "\n",
       "                                                      tags  view_count  \\\n",
       "0        pietro|guedes|ingrid|ohara|pingrid|vlog|amigos...      263835   \n",
       "1        JYP Entertainment|JYP|ITZY|있지|ITZY Video|ITZY ...     6000070   \n",
       "2        OH JULIANA PARÓDIA|MC Niack PARÓDIA|PARÓDIAS|A...     2296748   \n",
       "3        Riot|Riot Games|League of Legends|lol|trailer|...      300510   \n",
       "4        The Noite|The Noite com Danilo Gentili|Danilo ...      327235   \n",
       "...                                                    ...         ...   \n",
       "1400780  poppy playtime chapter 2|poppy playtime ch 2|p...      836262   \n",
       "1400781  Hotboy Wes|BigWalkDog|Studio|Studio Life|Miami...      547202   \n",
       "1400782                         how ridiculous|rexy|44club     1240347   \n",
       "1400783                                                NaN     1186684   \n",
       "1400784  the breakfast club|breakfast club|power1051|ce...      574351   \n",
       "\n",
       "          likes  dislikes  comment_count  \\\n",
       "0         85095       487           4500   \n",
       "1        714310     15176          31040   \n",
       "2         39761      5484              0   \n",
       "3         46222       242           2748   \n",
       "4         22059      3972           2751   \n",
       "...         ...       ...            ...   \n",
       "1400780   30278         0           2518   \n",
       "1400781   30145         0           1759   \n",
       "1400782   65689         0           2087   \n",
       "1400783   95477         0          10131   \n",
       "1400784    9622         0           5981   \n",
       "\n",
       "                                         thumbnail_link  comments_disabled  \\\n",
       "0        https://i.ytimg.com/vi/s9FH4rDMvds/default.jpg              False   \n",
       "1        https://i.ytimg.com/vi/jbGRowa5tIk/default.jpg              False   \n",
       "2        https://i.ytimg.com/vi/3EfkCrXKZNs/default.jpg               True   \n",
       "3        https://i.ytimg.com/vi/gBjox7vn3-g/default.jpg              False   \n",
       "4        https://i.ytimg.com/vi/npoUGx7UW7o/default.jpg              False   \n",
       "...                                                 ...                ...   \n",
       "1400780  https://i.ytimg.com/vi/6j-NPPU2-0Q/default.jpg              False   \n",
       "1400781  https://i.ytimg.com/vi/8zewhuMqKtY/default.jpg              False   \n",
       "1400782  https://i.ytimg.com/vi/TSqYrgnbYrY/default.jpg              False   \n",
       "1400783  https://i.ytimg.com/vi/XUlKykxmIGk/default.jpg              False   \n",
       "1400784  https://i.ytimg.com/vi/aKn-Cf6PtTU/default.jpg              False   \n",
       "\n",
       "         ratings_disabled                                        description  \\\n",
       "0                   False  Salve rapaziada, neste vídeo me declarei pra e...   \n",
       "1                   False  ITZY Not Shy M/V[ITZY Official] https://www.yo...   \n",
       "2                   False  Se inscrevam meus amores! 📬 Quer nos mandar al...   \n",
       "3                   False  Você se unirá aos Lunari e aos Solari em Targo...   \n",
       "4                   False  Danilo Gentili recebe Thammy Miranda. Após pas...   \n",
       "...                   ...                                                ...   \n",
       "1400780             False  Poppy Playtime: Chapter 2 has arrived. This is...   \n",
       "1400781             False  Hotboy Wes - Dear Mr. BoosieDownload/Stream:Su...   \n",
       "1400782             False  How FUN are balloon popping races?!Use code ST...   \n",
       "1400783             False  Hi babygirls! Thank you so much for watching, ...   \n",
       "1400784             False  Subscribe NOW to The Breakfast Club: http://ih...   \n",
       "\n",
       "        country        Category  \n",
       "0            BR  People & Blogs  \n",
       "1            BR           Music  \n",
       "2            BR  People & Blogs  \n",
       "3            BR          Gaming  \n",
       "4            BR          Comedy  \n",
       "...         ...             ...  \n",
       "1400780      US          Gaming  \n",
       "1400781      US  People & Blogs  \n",
       "1400782      US          Sports  \n",
       "1400783      US   Howto & Style  \n",
       "1400784      US   Entertainment  \n",
       "\n",
       "[1399562 rows x 18 columns]"
      ]
     },
     "execution_count": 15,
     "metadata": {},
     "output_type": "execute_result"
    }
   ],
   "source": [
    "df_final"
   ]
  },
  {
   "cell_type": "markdown",
   "metadata": {},
   "source": [
    "# Data exploration"
   ]
  },
  {
   "cell_type": "code",
   "execution_count": 16,
   "metadata": {
    "execution": {
     "iopub.execute_input": "2022-11-07T22:20:59.553918Z",
     "iopub.status.busy": "2022-11-07T22:20:59.553441Z",
     "iopub.status.idle": "2022-11-07T22:20:59.803698Z",
     "shell.execute_reply": "2022-11-07T22:20:59.802279Z",
     "shell.execute_reply.started": "2022-11-07T22:20:59.553879Z"
    }
   },
   "outputs": [
    {
     "data": {
      "text/plain": [
       "<Figure size 432x432 with 0 Axes>"
      ]
     },
     "execution_count": 16,
     "metadata": {},
     "output_type": "execute_result"
    },
    {
     "data": {
      "text/plain": [
       "<matplotlib.axes._subplots.AxesSubplot at 0x20eb556ad48>"
      ]
     },
     "execution_count": 16,
     "metadata": {},
     "output_type": "execute_result"
    },
    {
     "data": {
      "text/plain": [
       "<matplotlib.legend.Legend at 0x20ef9184b88>"
      ]
     },
     "execution_count": 16,
     "metadata": {},
     "output_type": "execute_result"
    },
    {
     "data": {
      "image/png": "[encoded data removed]",
      "text/plain": [
       "<Figure size 432x432 with 1 Axes>"
      ]
     },
     "metadata": {},
     "output_type": "display_data"
    }
   ],
   "source": [
    "# visualize the percentage of each category\n",
    "plt.figure(figsize=(6,6))\n",
    "df_final['Category'].value_counts()[:5].plot(kind='pie',autopct='%1.1f%%', labeldistance = None, pctdistance = 0.4, textprops={'fontsize': 10})\n",
    "plt.legend( loc='upper right')"
   ]
  },
  {
   "cell_type": "code",
   "execution_count": 17,
   "metadata": {
    "execution": {
     "iopub.execute_input": "2022-11-07T22:20:59.805568Z",
     "iopub.status.busy": "2022-11-07T22:20:59.805195Z",
     "iopub.status.idle": "2022-11-07T22:26:05.556227Z",
     "shell.execute_reply": "2022-11-07T22:26:05.555263Z",
     "shell.execute_reply.started": "2022-11-07T22:20:59.805530Z"
    }
   },
   "outputs": [
    {
     "data": {
      "text/plain": [
       "<matplotlib.axes._subplots.AxesSubplot at 0x20ea5f10f88>"
      ]
     },
     "execution_count": 17,
     "metadata": {},
     "output_type": "execute_result"
    },
    {
     "data": {
      "text/plain": [
       "Text(0.5, 1.0, 'Correlation between number of views and likes')"
      ]
     },
     "execution_count": 17,
     "metadata": {},
     "output_type": "execute_result"
    },
    {
     "data": {
      "image/png": "[encoded data removed]",
      "text/plain": [
       "<Figure size 576x396 with 1 Axes>"
      ]
     },
     "metadata": {},
     "output_type": "display_data"
    }
   ],
   "source": [
    "# Correlation between view_count and likes\n",
    "sns.regplot(x='view_count',y='likes',data=df_final)\n",
    "plt.title('Correlation between number of views and likes')"
   ]
  },
  {
   "cell_type": "code",
   "execution_count": 18,
   "metadata": {
    "execution": {
     "iopub.execute_input": "2022-11-07T22:26:05.559633Z",
     "iopub.status.busy": "2022-11-07T22:26:05.557670Z",
     "iopub.status.idle": "2022-11-07T22:26:06.012211Z",
     "shell.execute_reply": "2022-11-07T22:26:06.011259Z",
     "shell.execute_reply.started": "2022-11-07T22:26:05.559591Z"
    }
   },
   "outputs": [
    {
     "data": {
      "text/plain": [
       "<matplotlib.axes._subplots.AxesSubplot at 0x20ea5fa1308>"
      ]
     },
     "execution_count": 18,
     "metadata": {},
     "output_type": "execute_result"
    },
    {
     "data": {
      "image/png": "[encoded data removed]",
      "text/plain": [
       "<Figure size 576x396 with 2 Axes>"
      ]
     },
     "metadata": {},
     "output_type": "display_data"
    }
   ],
   "source": [
    "# Find Correlation using heatmap between view_count, likes, dislikes, comment_count\n",
    "sns.heatmap(df_final[['view_count' , 'likes' , 'dislikes' , 'comment_count']].corr(), annot = True, fmt = \".2f\")\n",
    "plt.show()"
   ]
  },
  {
   "cell_type": "code",
   "execution_count": 19,
   "metadata": {
    "execution": {
     "iopub.execute_input": "2022-11-07T22:26:06.510830Z",
     "iopub.status.busy": "2022-11-07T22:26:06.510138Z",
     "iopub.status.idle": "2022-11-07T22:26:06.978385Z",
     "shell.execute_reply": "2022-11-07T22:26:06.977282Z",
     "shell.execute_reply.started": "2022-11-07T22:26:06.510791Z"
    }
   },
   "outputs": [
    {
     "data": {
      "text/plain": [
       "Text(0.5, 1.0, 'Sum of Views vs country')"
      ]
     },
     "execution_count": 19,
     "metadata": {},
     "output_type": "execute_result"
    },
    {
     "data": {
      "image/png": "[encoded data removed]",
      "text/plain": [
       "<Figure size 576x396 with 1 Axes>"
      ]
     },
     "metadata": {},
     "output_type": "display_data"
    }
   ],
   "source": [
    "# Find number of views in each country\n",
    "plt2 = df_final[['likes', 'dislikes', 'view_count', 'country']].groupby('country').sum()\n",
    "sns.barplot(x=plt2.index, y=plt2.view_count).set_title('Sum of Views vs country')"
   ]
  },
  {
   "cell_type": "code",
   "execution_count": 20,
   "metadata": {
    "execution": {
     "iopub.execute_input": "2022-11-07T22:26:06.980321Z",
     "iopub.status.busy": "2022-11-07T22:26:06.979680Z",
     "iopub.status.idle": "2022-11-07T22:26:07.256304Z",
     "shell.execute_reply": "2022-11-07T22:26:07.255273Z",
     "shell.execute_reply.started": "2022-11-07T22:26:06.980283Z"
    }
   },
   "outputs": [
    {
     "data": {
      "text/plain": [
       "Text(0.5, 1.0, 'Sum of likes by country')"
      ]
     },
     "execution_count": 20,
     "metadata": {},
     "output_type": "execute_result"
    },
    {
     "data": {
      "image/png": "[encoded data removed]",
      "text/plain": [
       "<Figure size 576x396 with 1 Axes>"
      ]
     },
     "metadata": {},
     "output_type": "display_data"
    }
   ],
   "source": [
    "# Find number of likes in each country\n",
    "sns.barplot(x=plt2.index, y=plt2.likes).set_title('Sum of likes by country')"
   ]
  },
  {
   "cell_type": "code",
   "execution_count": 21,
   "metadata": {
    "execution": {
     "iopub.execute_input": "2022-11-07T22:26:07.257918Z",
     "iopub.status.busy": "2022-11-07T22:26:07.257579Z",
     "iopub.status.idle": "2022-11-07T22:26:07.574038Z",
     "shell.execute_reply": "2022-11-07T22:26:07.573125Z",
     "shell.execute_reply.started": "2022-11-07T22:26:07.257883Z"
    }
   },
   "outputs": [
    {
     "data": {
      "text/plain": [
       "Text(0.5, 1.0, 'Sum of dislikes by country')"
      ]
     },
     "execution_count": 21,
     "metadata": {},
     "output_type": "execute_result"
    },
    {
     "data": {
      "image/png": "[encoded data removed]",
      "text/plain": [
       "<Figure size 576x396 with 1 Axes>"
      ]
     },
     "metadata": {},
     "output_type": "display_data"
    }
   ],
   "source": [
    "# Find number of dislikes in each country\n",
    "sns.barplot(x=plt2.index, y=plt2.dislikes).set_title('Sum of dislikes by country')"
   ]
  },
  {
   "cell_type": "code",
   "execution_count": 22,
   "metadata": {
    "execution": {
     "iopub.execute_input": "2022-11-07T22:26:07.582606Z",
     "iopub.status.busy": "2022-11-07T22:26:07.578077Z",
     "iopub.status.idle": "2022-11-07T22:26:07.861850Z",
     "shell.execute_reply": "2022-11-07T22:26:07.860781Z",
     "shell.execute_reply.started": "2022-11-07T22:26:07.582568Z"
    }
   },
   "outputs": [
    {
     "name": "stdout",
     "output_type": "stream",
     "text": [
      "<class 'pandas.core.frame.DataFrame'>\n",
      "Int64Index: 1399562 entries, 0 to 1400784\n",
      "Data columns (total 18 columns):\n",
      " #   Column             Non-Null Count    Dtype         \n",
      "---  ------             --------------    -----         \n",
      " 0   video_id           1399562 non-null  object        \n",
      " 1   title              1399562 non-null  object        \n",
      " 2   publishedAt        1399562 non-null  datetime64[ns]\n",
      " 3   channelId          1399562 non-null  object        \n",
      " 4   channelTitle       1399561 non-null  object        \n",
      " 5   categoryId         1399562 non-null  object        \n",
      " 6   trending_date      1399562 non-null  object        \n",
      " 7   tags               1175419 non-null  object        \n",
      " 8   view_count         1399562 non-null  int64         \n",
      " 9   likes              1399562 non-null  int64         \n",
      " 10  dislikes           1399562 non-null  int64         \n",
      " 11  comment_count      1399562 non-null  int64         \n",
      " 12  thumbnail_link     1399562 non-null  object        \n",
      " 13  comments_disabled  1399562 non-null  bool          \n",
      " 14  ratings_disabled   1399562 non-null  bool          \n",
      " 15  description        1350687 non-null  object        \n",
      " 16  country            1399562 non-null  object        \n",
      " 17  Category           1399562 non-null  object        \n",
      "dtypes: bool(2), datetime64[ns](1), int64(4), object(11)\n",
      "memory usage: 184.2+ MB\n"
     ]
    },
    {
     "data": {
      "text/html": [
       "<div>\n",
       "<style scoped>\n",
       "    .dataframe tbody tr th:only-of-type {\n",
       "        vertical-align: middle;\n",
       "    }\n",
       "\n",
       "    .dataframe tbody tr th {\n",
       "        vertical-align: top;\n",
       "    }\n",
       "\n",
       "    .dataframe thead th {\n",
       "        text-align: right;\n",
       "    }\n",
       "</style>\n",
       "<table border=\"1\" class=\"dataframe\">\n",
       "  <thead>\n",
       "    <tr style=\"text-align: right;\">\n",
       "      <th></th>\n",
       "      <th>view_count</th>\n",
       "      <th>likes</th>\n",
       "      <th>dislikes</th>\n",
       "      <th>comment_count</th>\n",
       "    </tr>\n",
       "  </thead>\n",
       "  <tbody>\n",
       "    <tr>\n",
       "      <th>count</th>\n",
       "      <td>1.399562e+06</td>\n",
       "      <td>1.399562e+06</td>\n",
       "      <td>1.399562e+06</td>\n",
       "      <td>1.399562e+06</td>\n",
       "    </tr>\n",
       "    <tr>\n",
       "      <th>mean</th>\n",
       "      <td>1.897906e+06</td>\n",
       "      <td>1.092763e+05</td>\n",
       "      <td>1.920058e+03</td>\n",
       "      <td>8.903158e+03</td>\n",
       "    </tr>\n",
       "    <tr>\n",
       "      <th>std</th>\n",
       "      <td>5.947826e+06</td>\n",
       "      <td>3.820322e+05</td>\n",
       "      <td>3.198314e+04</td>\n",
       "      <td>8.771395e+04</td>\n",
       "    </tr>\n",
       "    <tr>\n",
       "      <th>min</th>\n",
       "      <td>0.000000e+00</td>\n",
       "      <td>0.000000e+00</td>\n",
       "      <td>0.000000e+00</td>\n",
       "      <td>0.000000e+00</td>\n",
       "    </tr>\n",
       "    <tr>\n",
       "      <th>25%</th>\n",
       "      <td>2.459180e+05</td>\n",
       "      <td>8.648000e+03</td>\n",
       "      <td>2.200000e+01</td>\n",
       "      <td>5.290000e+02</td>\n",
       "    </tr>\n",
       "    <tr>\n",
       "      <th>50%</th>\n",
       "      <td>5.962145e+05</td>\n",
       "      <td>2.513800e+04</td>\n",
       "      <td>2.560000e+02</td>\n",
       "      <td>1.463500e+03</td>\n",
       "    </tr>\n",
       "    <tr>\n",
       "      <th>75%</th>\n",
       "      <td>1.519998e+06</td>\n",
       "      <td>7.817700e+04</td>\n",
       "      <td>9.700000e+02</td>\n",
       "      <td>4.258000e+03</td>\n",
       "    </tr>\n",
       "    <tr>\n",
       "      <th>max</th>\n",
       "      <td>2.963142e+08</td>\n",
       "      <td>1.646425e+07</td>\n",
       "      <td>1.234147e+07</td>\n",
       "      <td>6.939302e+06</td>\n",
       "    </tr>\n",
       "  </tbody>\n",
       "</table>\n",
       "</div>"
      ],
      "text/plain": [
       "         view_count         likes      dislikes  comment_count\n",
       "count  1.399562e+06  1.399562e+06  1.399562e+06   1.399562e+06\n",
       "mean   1.897906e+06  1.092763e+05  1.920058e+03   8.903158e+03\n",
       "std    5.947826e+06  3.820322e+05  3.198314e+04   8.771395e+04\n",
       "min    0.000000e+00  0.000000e+00  0.000000e+00   0.000000e+00\n",
       "25%    2.459180e+05  8.648000e+03  2.200000e+01   5.290000e+02\n",
       "50%    5.962145e+05  2.513800e+04  2.560000e+02   1.463500e+03\n",
       "75%    1.519998e+06  7.817700e+04  9.700000e+02   4.258000e+03\n",
       "max    2.963142e+08  1.646425e+07  1.234147e+07   6.939302e+06"
      ]
     },
     "execution_count": 22,
     "metadata": {},
     "output_type": "execute_result"
    }
   ],
   "source": [
    "df_final.info()\n",
    "df_final.describe()"
   ]
  },
  {
   "cell_type": "markdown",
   "metadata": {},
   "source": [
    "# Feature engineering\n",
    "\n",
    "## Handling missing values\n",
    "From my observations the missing values are Missing Not At Random, as i think they depend on unobserved data, and i can not explain the pattern in the missing data. So, I'm going to drop them."
   ]
  },
  {
   "cell_type": "code",
   "execution_count": 23,
   "metadata": {
    "execution": {
     "iopub.execute_input": "2022-11-07T23:11:49.041426Z",
     "iopub.status.busy": "2022-11-07T23:11:49.040765Z",
     "iopub.status.idle": "2022-11-07T23:11:50.722206Z",
     "shell.execute_reply": "2022-11-07T23:11:50.721117Z",
     "shell.execute_reply.started": "2022-11-07T23:11:49.041383Z"
    }
   },
   "outputs": [
    {
     "name": "stdout",
     "output_type": "stream",
     "text": [
      "<class 'pandas.core.frame.DataFrame'>\n",
      "Int64Index: 1167270 entries, 0 to 1400784\n",
      "Data columns (total 18 columns):\n",
      " #   Column             Non-Null Count    Dtype         \n",
      "---  ------             --------------    -----         \n",
      " 0   video_id           1167270 non-null  object        \n",
      " 1   title              1167270 non-null  object        \n",
      " 2   publishedAt        1167270 non-null  datetime64[ns]\n",
      " 3   channelId          1167270 non-null  object        \n",
      " 4   channelTitle       1167270 non-null  object        \n",
      " 5   categoryId         1167270 non-null  object        \n",
      " 6   trending_date      1167270 non-null  object        \n",
      " 7   tags               1167270 non-null  object        \n",
      " 8   view_count         1167270 non-null  int64         \n",
      " 9   likes              1167270 non-null  int64         \n",
      " 10  dislikes           1167270 non-null  int64         \n",
      " 11  comment_count      1167270 non-null  int64         \n",
      " 12  thumbnail_link     1167270 non-null  object        \n",
      " 13  comments_disabled  1167270 non-null  bool          \n",
      " 14  ratings_disabled   1167270 non-null  bool          \n",
      " 15  description        1167270 non-null  object        \n",
      " 16  country            1167270 non-null  object        \n",
      " 17  Category           1167270 non-null  object        \n",
      "dtypes: bool(2), datetime64[ns](1), int64(4), object(11)\n",
      "memory usage: 153.6+ MB\n"
     ]
    }
   ],
   "source": [
    "df_final = df_final.dropna()\n",
    "df_final.info()"
   ]
  },
  {
   "cell_type": "markdown",
   "metadata": {},
   "source": [
    "## Features extraction"
   ]
  },
  {
   "cell_type": "code",
   "execution_count": 24,
   "metadata": {
    "execution": {
     "iopub.execute_input": "2022-11-07T23:11:50.989952Z",
     "iopub.status.busy": "2022-11-07T23:11:50.989160Z",
     "iopub.status.idle": "2022-11-07T23:12:36.529424Z",
     "shell.execute_reply": "2022-11-07T23:12:36.528403Z",
     "shell.execute_reply.started": "2022-11-07T23:11:50.989913Z"
    }
   },
   "outputs": [],
   "source": [
    "# remove punctuation from tags column\n",
    "def remove_punc(text):\n",
    "    text = str(text).replace('|',' ')\n",
    "    text = \"\".join([chart for chart in text if chart not in string.punctuation])\n",
    "\n",
    "    return text\n",
    "\n",
    "df_final['tags_clean'] = df_final['tags'].apply(lambda x: remove_punc(x))"
   ]
  },
  {
   "cell_type": "code",
   "execution_count": 25,
   "metadata": {
    "execution": {
     "iopub.execute_input": "2022-11-07T23:12:36.531241Z",
     "iopub.status.busy": "2022-11-07T23:12:36.530872Z",
     "iopub.status.idle": "2022-11-07T23:13:06.546258Z",
     "shell.execute_reply": "2022-11-07T23:13:06.545251Z",
     "shell.execute_reply.started": "2022-11-07T23:12:36.531204Z"
    }
   },
   "outputs": [],
   "source": [
    "# make the words in lowercase\n",
    "def tokenizer(text):\n",
    "    tokens = re.split('\\W+',text)\n",
    "    return tokens\n",
    "\n",
    "df_final['tokens'] = df_final['tags_clean'].apply(lambda x: tokenizer(x.lower()))"
   ]
  },
  {
   "cell_type": "code",
   "execution_count": 26,
   "metadata": {
    "execution": {
     "iopub.execute_input": "2022-11-07T23:13:06.548393Z",
     "iopub.status.busy": "2022-11-07T23:13:06.547717Z",
     "iopub.status.idle": "2022-11-07T23:19:51.049572Z",
     "shell.execute_reply": "2022-11-07T23:19:51.048581Z",
     "shell.execute_reply.started": "2022-11-07T23:13:06.548351Z"
    }
   },
   "outputs": [
    {
     "name": "stderr",
     "output_type": "stream",
     "text": [
      "[nltk_data] Downloading package stopwords to\n",
      "[nltk_data]     C:\\Users\\fatma\\AppData\\Roaming\\nltk_data...\n",
      "[nltk_data]   Package stopwords is already up-to-date!\n"
     ]
    },
    {
     "data": {
      "text/plain": [
       "True"
      ]
     },
     "execution_count": 26,
     "metadata": {},
     "output_type": "execute_result"
    }
   ],
   "source": [
    "# remove stopwords and not alphabet letters\n",
    "nltk.download('stopwords')\n",
    "stopwords_en = nltk.corpus.stopwords.words('english')\n",
    "stopwords_sp = nltk.corpus.stopwords.words('spanish')\n",
    "\n",
    "stopwords = stopwords_en + stopwords_sp\n",
    "\n",
    "def remove_stopwords(tokens):\n",
    "    tokens = [token for token in tokens if token not in stopwords]\n",
    "    return tokens\n",
    "\n",
    "df_final['tokens'] = df_final['tokens'].apply(lambda x: remove_stopwords(x))\n",
    "\n",
    "def remove_numb(tokens):\n",
    "    tokens = [token for token in tokens if token.isalpha()]\n",
    "    return tokens\n",
    "\n",
    "df_final['tokens'] = df_final['tokens'].apply(lambda x: remove_numb(x))"
   ]
  },
  {
   "cell_type": "code",
   "execution_count": 27,
   "metadata": {
    "execution": {
     "iopub.execute_input": "2022-11-07T23:19:51.054051Z",
     "iopub.status.busy": "2022-11-07T23:19:51.053115Z",
     "iopub.status.idle": "2022-11-07T23:19:54.773635Z",
     "shell.execute_reply": "2022-11-07T23:19:54.772366Z",
     "shell.execute_reply.started": "2022-11-07T23:19:51.054010Z"
    }
   },
   "outputs": [
    {
     "data": {
      "text/plain": [
       "0          None\n",
       "1          None\n",
       "2          None\n",
       "3          None\n",
       "4          None\n",
       "           ... \n",
       "1400626    None\n",
       "1400627    None\n",
       "1400629    None\n",
       "1400630    None\n",
       "1400634    None\n",
       "Name: tokens, Length: 222465, dtype: object"
      ]
     },
     "execution_count": 27,
     "metadata": {},
     "output_type": "execute_result"
    }
   ],
   "source": [
    "# count how many times each unique word appeard in each record\n",
    "unique_videos = df_final[['title','video_id']].drop_duplicates()\n",
    "\n",
    "c = Counter()\n",
    "def counter(text):\n",
    "      c.update(text)\n",
    "df_final.loc[unique_videos.index,'tokens'].apply(lambda x: counter(x))\n",
    "\n",
    "common_words_1 = [word[0] for word in c.most_common()[:300]]"
   ]
  },
  {
   "cell_type": "code",
   "execution_count": 28,
   "metadata": {
    "execution": {
     "iopub.execute_input": "2022-11-07T23:19:54.780978Z",
     "iopub.status.busy": "2022-11-07T23:19:54.779086Z",
     "iopub.status.idle": "2022-11-07T23:19:54.790496Z",
     "shell.execute_reply": "2022-11-07T23:19:54.789200Z",
     "shell.execute_reply.started": "2022-11-07T23:19:54.780932Z"
    }
   },
   "outputs": [],
   "source": [
    "# remove the words that are from 1 letter \n",
    "mono_words = list()\n",
    "for word in common_words_1:\n",
    "    if len(word)==1:\n",
    "        mono_words.append(word)\n",
    "\n",
    "for word in mono_words:\n",
    "    common_words_1.remove(word)"
   ]
  },
  {
   "cell_type": "code",
   "execution_count": 29,
   "metadata": {
    "execution": {
     "iopub.execute_input": "2022-11-07T23:19:54.796317Z",
     "iopub.status.busy": "2022-11-07T23:19:54.795510Z",
     "iopub.status.idle": "2022-11-07T23:19:54.804415Z",
     "shell.execute_reply": "2022-11-07T23:19:54.803078Z",
     "shell.execute_reply.started": "2022-11-07T23:19:54.796272Z"
    }
   },
   "outputs": [
    {
     "data": {
      "text/plain": [
       "287"
      ]
     },
     "execution_count": 29,
     "metadata": {},
     "output_type": "execute_result"
    }
   ],
   "source": [
    "len(common_words_1)"
   ]
  },
  {
   "cell_type": "code",
   "execution_count": 30,
   "metadata": {
    "execution": {
     "iopub.execute_input": "2022-11-07T23:19:54.807519Z",
     "iopub.status.busy": "2022-11-07T23:19:54.806580Z",
     "iopub.status.idle": "2022-11-07T23:27:51.764917Z",
     "shell.execute_reply": "2022-11-07T23:27:51.763914Z",
     "shell.execute_reply.started": "2022-11-07T23:19:54.807478Z"
    }
   },
   "outputs": [],
   "source": [
    "# convert the words into columns and in each record put the count of each word in its column\n",
    "for word in common_words_1:\n",
    "    df_final[word] = df_final['tokens'].apply(lambda x: x.count(word)) "
   ]
  },
  {
   "cell_type": "code",
   "execution_count": 31,
   "metadata": {
    "execution": {
     "iopub.execute_input": "2022-11-07T23:27:51.766702Z",
     "iopub.status.busy": "2022-11-07T23:27:51.766328Z",
     "iopub.status.idle": "2022-11-07T23:28:07.529920Z",
     "shell.execute_reply": "2022-11-07T23:28:07.528791Z",
     "shell.execute_reply.started": "2022-11-07T23:27:51.766664Z"
    }
   },
   "outputs": [],
   "source": [
    "# split the date and time from published at column\n",
    "df_final['new_date_published'] = [d.date() for d in df_final['publishedAt']]\n",
    "df_final['new_time_published'] = [d.time() for d in df_final['publishedAt']]"
   ]
  },
  {
   "cell_type": "code",
   "execution_count": 32,
   "metadata": {
    "execution": {
     "iopub.execute_input": "2022-11-07T23:28:07.532031Z",
     "iopub.status.busy": "2022-11-07T23:28:07.531545Z",
     "iopub.status.idle": "2022-11-07T23:28:09.317043Z",
     "shell.execute_reply": "2022-11-07T23:28:09.316005Z",
     "shell.execute_reply.started": "2022-11-07T23:28:07.531991Z"
    }
   },
   "outputs": [],
   "source": [
    "# Create new columns for the date for the published at and trending_date columns\n",
    "df_final['year_published'] = pd.DatetimeIndex(df_final['new_date_published']).year\n",
    "df_final['month_published'] = pd.DatetimeIndex(df_final['new_date_published']).month\n",
    "df_final['day_published'] = pd.DatetimeIndex(df_final['new_date_published']).day\n",
    "\n",
    "df_final['hour_published'] = df_final['publishedAt'].dt.hour\n",
    "df_final['minute_published'] = df_final['publishedAt'].dt.minute\n",
    "df_final['second_published'] = df_final['publishedAt'].dt.second\n",
    "\n",
    "df_final['year_trending'] = pd.DatetimeIndex(df_final['trending_date']).year\n",
    "df_final['month_trending'] = pd.DatetimeIndex(df_final['trending_date']).month\n",
    "df_final['day_trending'] = pd.DatetimeIndex(df_final['trending_date']).day"
   ]
  },
  {
   "cell_type": "code",
   "execution_count": 33,
   "metadata": {
    "execution": {
     "iopub.execute_input": "2022-11-07T23:28:09.319070Z",
     "iopub.status.busy": "2022-11-07T23:28:09.318674Z",
     "iopub.status.idle": "2022-11-07T23:28:09.350499Z",
     "shell.execute_reply": "2022-11-07T23:28:09.349407Z",
     "shell.execute_reply.started": "2022-11-07T23:28:09.319031Z"
    }
   },
   "outputs": [
    {
     "name": "stdout",
     "output_type": "stream",
     "text": [
      "<class 'pandas.core.frame.DataFrame'>\n",
      "Int64Index: 1167270 entries, 0 to 1400784\n",
      "Columns: 318 entries, video_id to day_trending\n",
      "dtypes: bool(2), datetime64[ns](1), int64(300), object(15)\n",
      "memory usage: 2.8+ GB\n"
     ]
    }
   ],
   "source": [
    "df_final.info()"
   ]
  },
  {
   "cell_type": "markdown",
   "metadata": {},
   "source": [
    "## Skweness handling"
   ]
  },
  {
   "cell_type": "code",
   "execution_count": 34,
   "metadata": {
    "execution": {
     "iopub.execute_input": "2022-11-07T23:28:09.352669Z",
     "iopub.status.busy": "2022-11-07T23:28:09.352229Z",
     "iopub.status.idle": "2022-11-07T23:28:14.433252Z",
     "shell.execute_reply": "2022-11-07T23:28:14.432267Z",
     "shell.execute_reply.started": "2022-11-07T23:28:09.352629Z"
    }
   },
   "outputs": [
    {
     "data": {
      "text/plain": [
       "<matplotlib.legend.Legend at 0x2101a0e3fc8>"
      ]
     },
     "execution_count": 34,
     "metadata": {},
     "output_type": "execute_result"
    },
    {
     "data": {
      "image/png": "[encoded data removed]",
      "text/plain": [
       "<Figure size 576x396 with 1 Axes>"
      ]
     },
     "metadata": {},
     "output_type": "display_data"
    }
   ],
   "source": [
    "# plot the histogram of the dislikes column\n",
    "t=sns.distplot(df_final['dislikes'],label=\"Skewness: %.2f\"%(df_final['dislikes'].skew()) )\n",
    "t.legend()"
   ]
  },
  {
   "cell_type": "code",
   "execution_count": 35,
   "metadata": {
    "execution": {
     "iopub.execute_input": "2022-11-07T23:28:14.434953Z",
     "iopub.status.busy": "2022-11-07T23:28:14.434648Z",
     "iopub.status.idle": "2022-11-07T23:28:21.161317Z",
     "shell.execute_reply": "2022-11-07T23:28:21.160403Z",
     "shell.execute_reply.started": "2022-11-07T23:28:14.434926Z"
    }
   },
   "outputs": [
    {
     "data": {
      "text/plain": [
       "<matplotlib.legend.Legend at 0x2100986b108>"
      ]
     },
     "execution_count": 35,
     "metadata": {},
     "output_type": "execute_result"
    },
    {
     "data": {
      "image/png": "[encoded data removed]",
      "text/plain": [
       "<Figure size 576x396 with 1 Axes>"
      ]
     },
     "metadata": {},
     "output_type": "display_data"
    }
   ],
   "source": [
    "# handle the right skewed by log transform\n",
    "df_final['Log_dislikes'] = df_final['dislikes'].map(lambda i: np.log(i) if i > 0 else 0)\n",
    "t=sns.distplot(df_final['Log_dislikes'],label=\"Skewness: %.2f\"%(df_final['Log_dislikes'].skew()) )\n",
    "t.legend()"
   ]
  },
  {
   "cell_type": "code",
   "execution_count": 36,
   "metadata": {
    "execution": {
     "iopub.execute_input": "2022-11-07T23:28:21.163690Z",
     "iopub.status.busy": "2022-11-07T23:28:21.163003Z",
     "iopub.status.idle": "2022-11-07T23:28:26.242175Z",
     "shell.execute_reply": "2022-11-07T23:28:26.241224Z",
     "shell.execute_reply.started": "2022-11-07T23:28:21.163650Z"
    }
   },
   "outputs": [
    {
     "data": {
      "text/plain": [
       "<matplotlib.legend.Legend at 0x21016a777c8>"
      ]
     },
     "execution_count": 36,
     "metadata": {},
     "output_type": "execute_result"
    },
    {
     "data": {
      "image/png": "[encoded data removed]",
      "text/plain": [
       "<Figure size 576x396 with 1 Axes>"
      ]
     },
     "metadata": {},
     "output_type": "display_data"
    }
   ],
   "source": [
    "# plot the histogram of the likes column\n",
    "t=sns.distplot(df_final['likes'],label=\"Skewness: %.2f\"%(df_final['likes'].skew()) )\n",
    "t.legend()"
   ]
  },
  {
   "cell_type": "code",
   "execution_count": 37,
   "metadata": {
    "execution": {
     "iopub.execute_input": "2022-11-07T23:28:26.244195Z",
     "iopub.status.busy": "2022-11-07T23:28:26.243595Z",
     "iopub.status.idle": "2022-11-07T23:28:33.798465Z",
     "shell.execute_reply": "2022-11-07T23:28:33.797517Z",
     "shell.execute_reply.started": "2022-11-07T23:28:26.244157Z"
    },
    "scrolled": true
   },
   "outputs": [
    {
     "data": {
      "text/plain": [
       "<matplotlib.legend.Legend at 0x20fe8c02d48>"
      ]
     },
     "execution_count": 37,
     "metadata": {},
     "output_type": "execute_result"
    },
    {
     "data": {
      "image/png": "[encoded data removed]",
      "text/plain": [
       "<Figure size 576x396 with 1 Axes>"
      ]
     },
     "metadata": {},
     "output_type": "display_data"
    }
   ],
   "source": [
    "# handle the right skewed by log transform\n",
    "df_final['Log_likes'] = df_final['likes'].map(lambda i: np.log(i) if i > 0 else 0)\n",
    "t=sns.distplot(df_final['Log_likes'],label=\"Skewness: %.2f\"%(df_final['Log_likes'].skew()) )\n",
    "t.legend()"
   ]
  },
  {
   "cell_type": "code",
   "execution_count": 38,
   "metadata": {
    "execution": {
     "iopub.execute_input": "2022-11-07T23:28:33.804814Z",
     "iopub.status.busy": "2022-11-07T23:28:33.804123Z",
     "iopub.status.idle": "2022-11-07T23:28:39.405976Z",
     "shell.execute_reply": "2022-11-07T23:28:39.405061Z",
     "shell.execute_reply.started": "2022-11-07T23:28:33.804785Z"
    }
   },
   "outputs": [
    {
     "data": {
      "text/plain": [
       "<matplotlib.legend.Legend at 0x2101834f588>"
      ]
     },
     "execution_count": 38,
     "metadata": {},
     "output_type": "execute_result"
    },
    {
     "data": {
      "image/png": "[encoded data removed]",
      "text/plain": [
       "<Figure size 576x396 with 1 Axes>"
      ]
     },
     "metadata": {},
     "output_type": "display_data"
    }
   ],
   "source": [
    "# plot the histogram of the views_count column\n",
    "t=sns.distplot(df_final['view_count'],label=\"Skewness: %.2f\"%(df_final['view_count'].skew()) )\n",
    "t.legend()"
   ]
  },
  {
   "cell_type": "code",
   "execution_count": 39,
   "metadata": {
    "execution": {
     "iopub.execute_input": "2022-11-07T23:28:39.408564Z",
     "iopub.status.busy": "2022-11-07T23:28:39.407517Z",
     "iopub.status.idle": "2022-11-07T23:28:47.155311Z",
     "shell.execute_reply": "2022-11-07T23:28:47.154259Z",
     "shell.execute_reply.started": "2022-11-07T23:28:39.408496Z"
    }
   },
   "outputs": [
    {
     "data": {
      "text/plain": [
       "<matplotlib.legend.Legend at 0x21012f88348>"
      ]
     },
     "execution_count": 39,
     "metadata": {},
     "output_type": "execute_result"
    },
    {
     "data": {
      "image/png": "[encoded data removed]",
      "text/plain": [
       "<Figure size 576x396 with 1 Axes>"
      ]
     },
     "metadata": {},
     "output_type": "display_data"
    }
   ],
   "source": [
    "# handle the right skewed by log transform\n",
    "df_final['Log_view_count'] = df_final['view_count'].map(lambda i: np.log(i) if i > 0 else 0)\n",
    "t=sns.distplot(df_final['Log_view_count'],label=\"Skewness: %.2f\"%(df_final['Log_view_count'].skew()) )\n",
    "t.legend()"
   ]
  },
  {
   "cell_type": "code",
   "execution_count": 40,
   "metadata": {
    "execution": {
     "iopub.execute_input": "2022-11-07T23:28:47.157264Z",
     "iopub.status.busy": "2022-11-07T23:28:47.156911Z",
     "iopub.status.idle": "2022-11-07T23:28:51.929653Z",
     "shell.execute_reply": "2022-11-07T23:28:51.928508Z",
     "shell.execute_reply.started": "2022-11-07T23:28:47.157227Z"
    }
   },
   "outputs": [
    {
     "data": {
      "text/plain": [
       "<matplotlib.legend.Legend at 0x20fe9695888>"
      ]
     },
     "execution_count": 40,
     "metadata": {},
     "output_type": "execute_result"
    },
    {
     "data": {
      "image/png": "[encoded data removed]",
      "text/plain": [
       "<Figure size 576x396 with 1 Axes>"
      ]
     },
     "metadata": {},
     "output_type": "display_data"
    }
   ],
   "source": [
    "# plot the histogram of the comments count column\n",
    "t=sns.distplot(df_final['comment_count'],label=\"Skewness: %.2f\"%(df_final['comment_count'].skew()) )\n",
    "t.legend()\n"
   ]
  },
  {
   "cell_type": "code",
   "execution_count": 41,
   "metadata": {
    "execution": {
     "iopub.execute_input": "2022-11-07T23:28:51.932022Z",
     "iopub.status.busy": "2022-11-07T23:28:51.931666Z",
     "iopub.status.idle": "2022-11-07T23:28:59.624422Z",
     "shell.execute_reply": "2022-11-07T23:28:59.623420Z",
     "shell.execute_reply.started": "2022-11-07T23:28:51.931985Z"
    }
   },
   "outputs": [
    {
     "data": {
      "text/plain": [
       "<matplotlib.legend.Legend at 0x21019b0c748>"
      ]
     },
     "execution_count": 41,
     "metadata": {},
     "output_type": "execute_result"
    },
    {
     "data": {
      "image/png": "[encoded data removed]",
      "text/plain": [
       "<Figure size 576x396 with 1 Axes>"
      ]
     },
     "metadata": {},
     "output_type": "display_data"
    }
   ],
   "source": [
    "# handle the skewed by log transform\n",
    "df_final['Log_comment_count'] = df_final['comment_count'].map(lambda i: np.log(i) if i > 0 else 0)\n",
    "t=sns.distplot(df_final['Log_comment_count'],label=\"Skewness: %.2f\"%(df_final['Log_comment_count'].skew()) )\n",
    "t.legend()"
   ]
  },
  {
   "cell_type": "markdown",
   "metadata": {},
   "source": [
    "## Drop the duplicates based on the title and video id columns\n",
    "As there are some videos may be trended more than one time so they won't have the same entries in all features but actually they are duplicated"
   ]
  },
  {
   "cell_type": "code",
   "execution_count": 42,
   "metadata": {
    "execution": {
     "iopub.execute_input": "2022-11-07T23:28:59.626600Z",
     "iopub.status.busy": "2022-11-07T23:28:59.625987Z",
     "iopub.status.idle": "2022-11-07T23:29:00.021356Z",
     "shell.execute_reply": "2022-11-07T23:29:00.020267Z",
     "shell.execute_reply.started": "2022-11-07T23:28:59.626563Z"
    }
   },
   "outputs": [
    {
     "data": {
      "text/plain": [
       "221383"
      ]
     },
     "execution_count": 42,
     "metadata": {},
     "output_type": "execute_result"
    },
    {
     "data": {
      "text/plain": [
       "217643"
      ]
     },
     "execution_count": 42,
     "metadata": {},
     "output_type": "execute_result"
    }
   ],
   "source": [
    "len(df_final['title'].unique()) \n",
    "len(df_final['video_id'].unique()) "
   ]
  },
  {
   "cell_type": "code",
   "execution_count": 43,
   "metadata": {
    "execution": {
     "iopub.execute_input": "2022-11-07T23:29:00.023355Z",
     "iopub.status.busy": "2022-11-07T23:29:00.022754Z"
    }
   },
   "outputs": [
    {
     "name": "stdout",
     "output_type": "stream",
     "text": [
      "<class 'pandas.core.frame.DataFrame'>\n",
      "RangeIndex: 222465 entries, 0 to 222464\n",
      "Columns: 322 entries, video_id to Log_comment_count\n",
      "dtypes: bool(2), datetime64[ns](1), float64(4), int64(300), object(15)\n",
      "memory usage: 543.6+ MB\n"
     ]
    },
    {
     "data": {
      "text/html": [
       "<div>\n",
       "<style scoped>\n",
       "    .dataframe tbody tr th:only-of-type {\n",
       "        vertical-align: middle;\n",
       "    }\n",
       "\n",
       "    .dataframe tbody tr th {\n",
       "        vertical-align: top;\n",
       "    }\n",
       "\n",
       "    .dataframe thead th {\n",
       "        text-align: right;\n",
       "    }\n",
       "</style>\n",
       "<table border=\"1\" class=\"dataframe\">\n",
       "  <thead>\n",
       "    <tr style=\"text-align: right;\">\n",
       "      <th></th>\n",
       "      <th>video_id</th>\n",
       "      <th>title</th>\n",
       "      <th>publishedAt</th>\n",
       "      <th>channelId</th>\n",
       "      <th>channelTitle</th>\n",
       "      <th>categoryId</th>\n",
       "      <th>trending_date</th>\n",
       "      <th>tags</th>\n",
       "      <th>view_count</th>\n",
       "      <th>likes</th>\n",
       "      <th>...</th>\n",
       "      <th>hour_published</th>\n",
       "      <th>minute_published</th>\n",
       "      <th>second_published</th>\n",
       "      <th>year_trending</th>\n",
       "      <th>month_trending</th>\n",
       "      <th>day_trending</th>\n",
       "      <th>Log_dislikes</th>\n",
       "      <th>Log_likes</th>\n",
       "      <th>Log_view_count</th>\n",
       "      <th>Log_comment_count</th>\n",
       "    </tr>\n",
       "  </thead>\n",
       "  <tbody>\n",
       "    <tr>\n",
       "      <th>0</th>\n",
       "      <td>8irga_AqRdw</td>\n",
       "      <td>Minicurso Gratuito - Aula 1 - Receitas que vendem</td>\n",
       "      <td>2020-08-12 02:16:40</td>\n",
       "      <td>UCeTKpYNnUeJ3g_9pbCpt3XA</td>\n",
       "      <td>Gordices da Deia</td>\n",
       "      <td>27</td>\n",
       "      <td>2020-08-12</td>\n",
       "      <td>gordices da deia|chantilly|bolo|confeitaria|de...</td>\n",
       "      <td>33204</td>\n",
       "      <td>8445</td>\n",
       "      <td>...</td>\n",
       "      <td>2</td>\n",
       "      <td>16</td>\n",
       "      <td>40</td>\n",
       "      <td>2020</td>\n",
       "      <td>8</td>\n",
       "      <td>12</td>\n",
       "      <td>4.060443</td>\n",
       "      <td>9.041330</td>\n",
       "      <td>10.410426</td>\n",
       "      <td>5.327876</td>\n",
       "    </tr>\n",
       "    <tr>\n",
       "      <th>1</th>\n",
       "      <td>54g-G3CvgxI</td>\n",
       "      <td>MASTERCHEF BRASIL (11/08/2020) | PARTE 1 | EP ...</td>\n",
       "      <td>2020-08-12 08:00:00</td>\n",
       "      <td>UC2EWGw-KBjEReUbXMJEiaCA</td>\n",
       "      <td>MasterChef Brasil</td>\n",
       "      <td>24</td>\n",
       "      <td>2020-08-12</td>\n",
       "      <td>masterchef brasil|masterchef temporada 7|parti...</td>\n",
       "      <td>259074</td>\n",
       "      <td>14175</td>\n",
       "      <td>...</td>\n",
       "      <td>8</td>\n",
       "      <td>0</td>\n",
       "      <td>0</td>\n",
       "      <td>2020</td>\n",
       "      <td>8</td>\n",
       "      <td>12</td>\n",
       "      <td>5.147494</td>\n",
       "      <td>9.559235</td>\n",
       "      <td>12.464869</td>\n",
       "      <td>7.037906</td>\n",
       "    </tr>\n",
       "    <tr>\n",
       "      <th>2</th>\n",
       "      <td>M91gKrhW8tY</td>\n",
       "      <td>Por que a ÁGUA sai BRANCA da torneira? #Aprend...</td>\n",
       "      <td>2020-08-08 14:30:06</td>\n",
       "      <td>UCKHhA5hN2UohhFDfNXB_cvQ</td>\n",
       "      <td>Manual do Mundo</td>\n",
       "      <td>28</td>\n",
       "      <td>2020-08-12</td>\n",
       "      <td>como fazer|como funciona|experiência|teste|ciê...</td>\n",
       "      <td>429257</td>\n",
       "      <td>79918</td>\n",
       "      <td>...</td>\n",
       "      <td>14</td>\n",
       "      <td>30</td>\n",
       "      <td>6</td>\n",
       "      <td>2020</td>\n",
       "      <td>8</td>\n",
       "      <td>12</td>\n",
       "      <td>6.202536</td>\n",
       "      <td>11.288756</td>\n",
       "      <td>12.969811</td>\n",
       "      <td>8.477620</td>\n",
       "    </tr>\n",
       "    <tr>\n",
       "      <th>3</th>\n",
       "      <td>efBoqfN2aWs</td>\n",
       "      <td>JÁ FIQUEI COM YOUTUBERS? - QUEM ME CONHECE MEL...</td>\n",
       "      <td>2020-08-07 23:53:57</td>\n",
       "      <td>UCcBfPvc-87sAEyA7yqHG4wg</td>\n",
       "      <td>LOUD Mii</td>\n",
       "      <td>24</td>\n",
       "      <td>2020-08-12</td>\n",
       "      <td>miiedb|mii esquierdo|loud|loud mii|Loud Mob|Lo...</td>\n",
       "      <td>284510</td>\n",
       "      <td>65009</td>\n",
       "      <td>...</td>\n",
       "      <td>23</td>\n",
       "      <td>53</td>\n",
       "      <td>57</td>\n",
       "      <td>2020</td>\n",
       "      <td>8</td>\n",
       "      <td>12</td>\n",
       "      <td>5.843544</td>\n",
       "      <td>11.082281</td>\n",
       "      <td>12.558524</td>\n",
       "      <td>7.469084</td>\n",
       "    </tr>\n",
       "    <tr>\n",
       "      <th>4</th>\n",
       "      <td>jQhwyCc4_bs</td>\n",
       "      <td>Péricles - Tô Achando Que é Amor (Videoclipe...</td>\n",
       "      <td>2020-08-07 13:59:39</td>\n",
       "      <td>UCOUqW2QqiOFK9fXA5cAOENA</td>\n",
       "      <td>Canal do Pericão</td>\n",
       "      <td>10</td>\n",
       "      <td>2020-08-12</td>\n",
       "      <td>pericles|samba|pericles samba|pericles exalta|...</td>\n",
       "      <td>775634</td>\n",
       "      <td>15580</td>\n",
       "      <td>...</td>\n",
       "      <td>13</td>\n",
       "      <td>59</td>\n",
       "      <td>39</td>\n",
       "      <td>2020</td>\n",
       "      <td>8</td>\n",
       "      <td>12</td>\n",
       "      <td>5.176150</td>\n",
       "      <td>9.653743</td>\n",
       "      <td>13.561436</td>\n",
       "      <td>6.206576</td>\n",
       "    </tr>\n",
       "    <tr>\n",
       "      <th>...</th>\n",
       "      <td>...</td>\n",
       "      <td>...</td>\n",
       "      <td>...</td>\n",
       "      <td>...</td>\n",
       "      <td>...</td>\n",
       "      <td>...</td>\n",
       "      <td>...</td>\n",
       "      <td>...</td>\n",
       "      <td>...</td>\n",
       "      <td>...</td>\n",
       "      <td>...</td>\n",
       "      <td>...</td>\n",
       "      <td>...</td>\n",
       "      <td>...</td>\n",
       "      <td>...</td>\n",
       "      <td>...</td>\n",
       "      <td>...</td>\n",
       "      <td>...</td>\n",
       "      <td>...</td>\n",
       "      <td>...</td>\n",
       "      <td>...</td>\n",
       "    </tr>\n",
       "    <tr>\n",
       "      <th>222460</th>\n",
       "      <td>To4DFfXYDlc</td>\n",
       "      <td>Film Theory: Netflix is DYING... but I can SAV...</td>\n",
       "      <td>2022-05-05 18:05:04</td>\n",
       "      <td>UC3sznuotAs2ohg_U__Jzj_Q</td>\n",
       "      <td>The Film Theorists</td>\n",
       "      <td>1</td>\n",
       "      <td>2022-05-11</td>\n",
       "      <td>netflix|netflix broken|netflix movies|netflix ...</td>\n",
       "      <td>2050042</td>\n",
       "      <td>131413</td>\n",
       "      <td>...</td>\n",
       "      <td>18</td>\n",
       "      <td>5</td>\n",
       "      <td>4</td>\n",
       "      <td>2022</td>\n",
       "      <td>5</td>\n",
       "      <td>11</td>\n",
       "      <td>0.000000</td>\n",
       "      <td>11.786100</td>\n",
       "      <td>14.533371</td>\n",
       "      <td>9.117786</td>\n",
       "    </tr>\n",
       "    <tr>\n",
       "      <th>222461</th>\n",
       "      <td>6j-NPPU2-0Q</td>\n",
       "      <td>Mommy Long Legs is Done Playing || Poppy Playt...</td>\n",
       "      <td>2022-05-06 18:00:02</td>\n",
       "      <td>UChL4WU9YLlxXXNSwlzM1-7g</td>\n",
       "      <td>SuperHorrorBro</td>\n",
       "      <td>20</td>\n",
       "      <td>2022-05-11</td>\n",
       "      <td>poppy playtime chapter 2|poppy playtime ch 2|p...</td>\n",
       "      <td>836262</td>\n",
       "      <td>30278</td>\n",
       "      <td>...</td>\n",
       "      <td>18</td>\n",
       "      <td>0</td>\n",
       "      <td>2</td>\n",
       "      <td>2022</td>\n",
       "      <td>5</td>\n",
       "      <td>11</td>\n",
       "      <td>0.000000</td>\n",
       "      <td>10.318177</td>\n",
       "      <td>13.636697</td>\n",
       "      <td>7.831220</td>\n",
       "    </tr>\n",
       "    <tr>\n",
       "      <th>222462</th>\n",
       "      <td>8zewhuMqKtY</td>\n",
       "      <td>Hotboy Wes - Dear Mr. Boosie [Freestyle]</td>\n",
       "      <td>2022-05-04 19:00:02</td>\n",
       "      <td>UCoA8xyJ0qoXww3U5aAiH2hQ</td>\n",
       "      <td>Hotboy Wes</td>\n",
       "      <td>22</td>\n",
       "      <td>2022-05-11</td>\n",
       "      <td>Hotboy Wes|BigWalkDog|Studio|Studio Life|Miami...</td>\n",
       "      <td>547202</td>\n",
       "      <td>30145</td>\n",
       "      <td>...</td>\n",
       "      <td>19</td>\n",
       "      <td>0</td>\n",
       "      <td>2</td>\n",
       "      <td>2022</td>\n",
       "      <td>5</td>\n",
       "      <td>11</td>\n",
       "      <td>0.000000</td>\n",
       "      <td>10.313774</td>\n",
       "      <td>13.212573</td>\n",
       "      <td>7.472501</td>\n",
       "    </tr>\n",
       "    <tr>\n",
       "      <th>222463</th>\n",
       "      <td>TSqYrgnbYrY</td>\n",
       "      <td>EXTREME Balloon Pop Racing!!</td>\n",
       "      <td>2022-05-06 22:00:12</td>\n",
       "      <td>UC5f5IV0Bf79YLp_p9nfInRA</td>\n",
       "      <td>How Ridiculous</td>\n",
       "      <td>17</td>\n",
       "      <td>2022-05-11</td>\n",
       "      <td>how ridiculous|rexy|44club</td>\n",
       "      <td>1240347</td>\n",
       "      <td>65689</td>\n",
       "      <td>...</td>\n",
       "      <td>22</td>\n",
       "      <td>0</td>\n",
       "      <td>12</td>\n",
       "      <td>2022</td>\n",
       "      <td>5</td>\n",
       "      <td>11</td>\n",
       "      <td>0.000000</td>\n",
       "      <td>11.092687</td>\n",
       "      <td>14.030902</td>\n",
       "      <td>7.643483</td>\n",
       "    </tr>\n",
       "    <tr>\n",
       "      <th>222464</th>\n",
       "      <td>aKn-Cf6PtTU</td>\n",
       "      <td>Youtuber, Kevin Samuels Passes Away at 56</td>\n",
       "      <td>2022-05-06 12:52:02</td>\n",
       "      <td>UChi08h4577eFsNXGd3sxYhw</td>\n",
       "      <td>Breakfast Club Power 105.1 FM</td>\n",
       "      <td>24</td>\n",
       "      <td>2022-05-11</td>\n",
       "      <td>the breakfast club|breakfast club|power1051|ce...</td>\n",
       "      <td>574351</td>\n",
       "      <td>9622</td>\n",
       "      <td>...</td>\n",
       "      <td>12</td>\n",
       "      <td>52</td>\n",
       "      <td>2</td>\n",
       "      <td>2022</td>\n",
       "      <td>5</td>\n",
       "      <td>11</td>\n",
       "      <td>0.000000</td>\n",
       "      <td>9.171807</td>\n",
       "      <td>13.260996</td>\n",
       "      <td>8.696343</td>\n",
       "    </tr>\n",
       "  </tbody>\n",
       "</table>\n",
       "<p>222465 rows × 322 columns</p>\n",
       "</div>"
      ],
      "text/plain": [
       "           video_id                                              title  \\\n",
       "0       8irga_AqRdw  Minicurso Gratuito - Aula 1 - Receitas que vendem   \n",
       "1       54g-G3CvgxI  MASTERCHEF BRASIL (11/08/2020) | PARTE 1 | EP ...   \n",
       "2       M91gKrhW8tY  Por que a ÁGUA sai BRANCA da torneira? #Aprend...   \n",
       "3       efBoqfN2aWs  JÁ FIQUEI COM YOUTUBERS? - QUEM ME CONHECE MEL...   \n",
       "4       jQhwyCc4_bs  Péricles - Tô Achando Que é Amor (Videoclipe...   \n",
       "...             ...                                                ...   \n",
       "222460  To4DFfXYDlc  Film Theory: Netflix is DYING... but I can SAV...   \n",
       "222461  6j-NPPU2-0Q  Mommy Long Legs is Done Playing || Poppy Playt...   \n",
       "222462  8zewhuMqKtY           Hotboy Wes - Dear Mr. Boosie [Freestyle]   \n",
       "222463  TSqYrgnbYrY                       EXTREME Balloon Pop Racing!!   \n",
       "222464  aKn-Cf6PtTU          Youtuber, Kevin Samuels Passes Away at 56   \n",
       "\n",
       "               publishedAt                 channelId  \\\n",
       "0      2020-08-12 02:16:40  UCeTKpYNnUeJ3g_9pbCpt3XA   \n",
       "1      2020-08-12 08:00:00  UC2EWGw-KBjEReUbXMJEiaCA   \n",
       "2      2020-08-08 14:30:06  UCKHhA5hN2UohhFDfNXB_cvQ   \n",
       "3      2020-08-07 23:53:57  UCcBfPvc-87sAEyA7yqHG4wg   \n",
       "4      2020-08-07 13:59:39  UCOUqW2QqiOFK9fXA5cAOENA   \n",
       "...                    ...                       ...   \n",
       "222460 2022-05-05 18:05:04  UC3sznuotAs2ohg_U__Jzj_Q   \n",
       "222461 2022-05-06 18:00:02  UChL4WU9YLlxXXNSwlzM1-7g   \n",
       "222462 2022-05-04 19:00:02  UCoA8xyJ0qoXww3U5aAiH2hQ   \n",
       "222463 2022-05-06 22:00:12  UC5f5IV0Bf79YLp_p9nfInRA   \n",
       "222464 2022-05-06 12:52:02  UChi08h4577eFsNXGd3sxYhw   \n",
       "\n",
       "                         channelTitle categoryId trending_date  \\\n",
       "0                    Gordices da Deia         27    2020-08-12   \n",
       "1                   MasterChef Brasil         24    2020-08-12   \n",
       "2                     Manual do Mundo         28    2020-08-12   \n",
       "3                            LOUD Mii         24    2020-08-12   \n",
       "4                    Canal do Pericão         10    2020-08-12   \n",
       "...                               ...        ...           ...   \n",
       "222460             The Film Theorists          1    2022-05-11   \n",
       "222461                 SuperHorrorBro         20    2022-05-11   \n",
       "222462                     Hotboy Wes         22    2022-05-11   \n",
       "222463                 How Ridiculous         17    2022-05-11   \n",
       "222464  Breakfast Club Power 105.1 FM         24    2022-05-11   \n",
       "\n",
       "                                                     tags  view_count   likes  \\\n",
       "0       gordices da deia|chantilly|bolo|confeitaria|de...       33204    8445   \n",
       "1       masterchef brasil|masterchef temporada 7|parti...      259074   14175   \n",
       "2       como fazer|como funciona|experiência|teste|ciê...      429257   79918   \n",
       "3       miiedb|mii esquierdo|loud|loud mii|Loud Mob|Lo...      284510   65009   \n",
       "4       pericles|samba|pericles samba|pericles exalta|...      775634   15580   \n",
       "...                                                   ...         ...     ...   \n",
       "222460  netflix|netflix broken|netflix movies|netflix ...     2050042  131413   \n",
       "222461  poppy playtime chapter 2|poppy playtime ch 2|p...      836262   30278   \n",
       "222462  Hotboy Wes|BigWalkDog|Studio|Studio Life|Miami...      547202   30145   \n",
       "222463                         how ridiculous|rexy|44club     1240347   65689   \n",
       "222464  the breakfast club|breakfast club|power1051|ce...      574351    9622   \n",
       "\n",
       "        ...  hour_published  minute_published second_published  year_trending  \\\n",
       "0       ...               2                16               40           2020   \n",
       "1       ...               8                 0                0           2020   \n",
       "2       ...              14                30                6           2020   \n",
       "3       ...              23                53               57           2020   \n",
       "4       ...              13                59               39           2020   \n",
       "...     ...             ...               ...              ...            ...   \n",
       "222460  ...              18                 5                4           2022   \n",
       "222461  ...              18                 0                2           2022   \n",
       "222462  ...              19                 0                2           2022   \n",
       "222463  ...              22                 0               12           2022   \n",
       "222464  ...              12                52                2           2022   \n",
       "\n",
       "        month_trending day_trending Log_dislikes  Log_likes Log_view_count  \\\n",
       "0                    8           12     4.060443   9.041330      10.410426   \n",
       "1                    8           12     5.147494   9.559235      12.464869   \n",
       "2                    8           12     6.202536  11.288756      12.969811   \n",
       "3                    8           12     5.843544  11.082281      12.558524   \n",
       "4                    8           12     5.176150   9.653743      13.561436   \n",
       "...                ...          ...          ...        ...            ...   \n",
       "222460               5           11     0.000000  11.786100      14.533371   \n",
       "222461               5           11     0.000000  10.318177      13.636697   \n",
       "222462               5           11     0.000000  10.313774      13.212573   \n",
       "222463               5           11     0.000000  11.092687      14.030902   \n",
       "222464               5           11     0.000000   9.171807      13.260996   \n",
       "\n",
       "       Log_comment_count  \n",
       "0               5.327876  \n",
       "1               7.037906  \n",
       "2               8.477620  \n",
       "3               7.469084  \n",
       "4               6.206576  \n",
       "...                  ...  \n",
       "222460          9.117786  \n",
       "222461          7.831220  \n",
       "222462          7.472501  \n",
       "222463          7.643483  \n",
       "222464          8.696343  \n",
       "\n",
       "[222465 rows x 322 columns]"
      ]
     },
     "execution_count": 43,
     "metadata": {},
     "output_type": "execute_result"
    }
   ],
   "source": [
    "# drop rows which have same video id or title and keep latest entry\n",
    "df_final_new = df_final.drop_duplicates(\n",
    "  subset = ['title', 'video_id'],  keep = 'last').reset_index(drop = True)\n",
    "df_final_new.info()\n",
    "df_final_new"
   ]
  },
  {
   "cell_type": "code",
   "execution_count": 44,
   "metadata": {},
   "outputs": [],
   "source": [
    "# drop old columns after making feature extraction from them, and drop video id and thumbnail_link as they refer to an ID for \n",
    "# each video (record)\n",
    "df_final_new = df_final_new.drop(['tags', 'publishedAt', 'trending_date', 'new_date_published', 'new_time_published', 'tags_clean',\n",
    "                          'tokens','video_id', 'thumbnail_link', 'title'], axis=1)"
   ]
  },
  {
   "cell_type": "markdown",
   "metadata": {},
   "source": [
    "## Categotical encoding"
   ]
  },
  {
   "cell_type": "code",
   "execution_count": 45,
   "metadata": {},
   "outputs": [
    {
     "data": {
      "text/plain": [
       "Index(['channelId', 'channelTitle', 'categoryId', 'description', 'country',\n",
       "       'Category'],\n",
       "      dtype='object')"
      ]
     },
     "execution_count": 45,
     "metadata": {},
     "output_type": "execute_result"
    }
   ],
   "source": [
    "df_final_cat = df_final_new.select_dtypes(include=['object'])\n",
    "df_final_cat.columns"
   ]
  },
  {
   "cell_type": "code",
   "execution_count": 46,
   "metadata": {},
   "outputs": [
    {
     "data": {
      "text/html": [
       "<div>\n",
       "<style scoped>\n",
       "    .dataframe tbody tr th:only-of-type {\n",
       "        vertical-align: middle;\n",
       "    }\n",
       "\n",
       "    .dataframe tbody tr th {\n",
       "        vertical-align: top;\n",
       "    }\n",
       "\n",
       "    .dataframe thead th {\n",
       "        text-align: right;\n",
       "    }\n",
       "</style>\n",
       "<table border=\"1\" class=\"dataframe\">\n",
       "  <thead>\n",
       "    <tr style=\"text-align: right;\">\n",
       "      <th></th>\n",
       "      <th>channelId</th>\n",
       "      <th>channelTitle</th>\n",
       "      <th>categoryId</th>\n",
       "      <th>view_count</th>\n",
       "      <th>likes</th>\n",
       "      <th>dislikes</th>\n",
       "      <th>comment_count</th>\n",
       "      <th>comments_disabled</th>\n",
       "      <th>ratings_disabled</th>\n",
       "      <th>description</th>\n",
       "      <th>...</th>\n",
       "      <th>hour_published</th>\n",
       "      <th>minute_published</th>\n",
       "      <th>second_published</th>\n",
       "      <th>year_trending</th>\n",
       "      <th>month_trending</th>\n",
       "      <th>day_trending</th>\n",
       "      <th>Log_dislikes</th>\n",
       "      <th>Log_likes</th>\n",
       "      <th>Log_view_count</th>\n",
       "      <th>Log_comment_count</th>\n",
       "    </tr>\n",
       "  </thead>\n",
       "  <tbody>\n",
       "    <tr>\n",
       "      <th>0</th>\n",
       "      <td>18996</td>\n",
       "      <td>8074</td>\n",
       "      <td>12</td>\n",
       "      <td>33204</td>\n",
       "      <td>8445</td>\n",
       "      <td>58</td>\n",
       "      <td>206</td>\n",
       "      <td>False</td>\n",
       "      <td>False</td>\n",
       "      <td>94654</td>\n",
       "      <td>...</td>\n",
       "      <td>2</td>\n",
       "      <td>16</td>\n",
       "      <td>40</td>\n",
       "      <td>2020</td>\n",
       "      <td>8</td>\n",
       "      <td>12</td>\n",
       "      <td>4.060443</td>\n",
       "      <td>9.041330</td>\n",
       "      <td>10.410426</td>\n",
       "      <td>5.327876</td>\n",
       "    </tr>\n",
       "    <tr>\n",
       "      <th>1</th>\n",
       "      <td>1501</td>\n",
       "      <td>13147</td>\n",
       "      <td>9</td>\n",
       "      <td>259074</td>\n",
       "      <td>14175</td>\n",
       "      <td>172</td>\n",
       "      <td>1139</td>\n",
       "      <td>False</td>\n",
       "      <td>False</td>\n",
       "      <td>21450</td>\n",
       "      <td>...</td>\n",
       "      <td>8</td>\n",
       "      <td>0</td>\n",
       "      <td>0</td>\n",
       "      <td>2020</td>\n",
       "      <td>8</td>\n",
       "      <td>12</td>\n",
       "      <td>5.147494</td>\n",
       "      <td>9.559235</td>\n",
       "      <td>12.464869</td>\n",
       "      <td>7.037906</td>\n",
       "    </tr>\n",
       "    <tr>\n",
       "      <th>2</th>\n",
       "      <td>9613</td>\n",
       "      <td>12902</td>\n",
       "      <td>13</td>\n",
       "      <td>429257</td>\n",
       "      <td>79918</td>\n",
       "      <td>494</td>\n",
       "      <td>4806</td>\n",
       "      <td>False</td>\n",
       "      <td>False</td>\n",
       "      <td>112187</td>\n",
       "      <td>...</td>\n",
       "      <td>14</td>\n",
       "      <td>30</td>\n",
       "      <td>6</td>\n",
       "      <td>2020</td>\n",
       "      <td>8</td>\n",
       "      <td>12</td>\n",
       "      <td>6.202536</td>\n",
       "      <td>11.288756</td>\n",
       "      <td>12.969811</td>\n",
       "      <td>8.477620</td>\n",
       "    </tr>\n",
       "    <tr>\n",
       "      <th>3</th>\n",
       "      <td>18002</td>\n",
       "      <td>11232</td>\n",
       "      <td>9</td>\n",
       "      <td>284510</td>\n",
       "      <td>65009</td>\n",
       "      <td>345</td>\n",
       "      <td>1753</td>\n",
       "      <td>False</td>\n",
       "      <td>False</td>\n",
       "      <td>78960</td>\n",
       "      <td>...</td>\n",
       "      <td>23</td>\n",
       "      <td>53</td>\n",
       "      <td>57</td>\n",
       "      <td>2020</td>\n",
       "      <td>8</td>\n",
       "      <td>12</td>\n",
       "      <td>5.843544</td>\n",
       "      <td>11.082281</td>\n",
       "      <td>12.558524</td>\n",
       "      <td>7.469084</td>\n",
       "    </tr>\n",
       "    <tr>\n",
       "      <th>4</th>\n",
       "      <td>11469</td>\n",
       "      <td>3525</td>\n",
       "      <td>1</td>\n",
       "      <td>775634</td>\n",
       "      <td>15580</td>\n",
       "      <td>177</td>\n",
       "      <td>496</td>\n",
       "      <td>False</td>\n",
       "      <td>False</td>\n",
       "      <td>82606</td>\n",
       "      <td>...</td>\n",
       "      <td>13</td>\n",
       "      <td>59</td>\n",
       "      <td>39</td>\n",
       "      <td>2020</td>\n",
       "      <td>8</td>\n",
       "      <td>12</td>\n",
       "      <td>5.176150</td>\n",
       "      <td>9.653743</td>\n",
       "      <td>13.561436</td>\n",
       "      <td>6.206576</td>\n",
       "    </tr>\n",
       "    <tr>\n",
       "      <th>...</th>\n",
       "      <td>...</td>\n",
       "      <td>...</td>\n",
       "      <td>...</td>\n",
       "      <td>...</td>\n",
       "      <td>...</td>\n",
       "      <td>...</td>\n",
       "      <td>...</td>\n",
       "      <td>...</td>\n",
       "      <td>...</td>\n",
       "      <td>...</td>\n",
       "      <td>...</td>\n",
       "      <td>...</td>\n",
       "      <td>...</td>\n",
       "      <td>...</td>\n",
       "      <td>...</td>\n",
       "      <td>...</td>\n",
       "      <td>...</td>\n",
       "      <td>...</td>\n",
       "      <td>...</td>\n",
       "      <td>...</td>\n",
       "      <td>...</td>\n",
       "    </tr>\n",
       "    <tr>\n",
       "      <th>222460</th>\n",
       "      <td>2267</td>\n",
       "      <td>20222</td>\n",
       "      <td>0</td>\n",
       "      <td>2050042</td>\n",
       "      <td>131413</td>\n",
       "      <td>0</td>\n",
       "      <td>9116</td>\n",
       "      <td>False</td>\n",
       "      <td>False</td>\n",
       "      <td>48282</td>\n",
       "      <td>...</td>\n",
       "      <td>18</td>\n",
       "      <td>5</td>\n",
       "      <td>4</td>\n",
       "      <td>2022</td>\n",
       "      <td>5</td>\n",
       "      <td>11</td>\n",
       "      <td>0.000000</td>\n",
       "      <td>11.786100</td>\n",
       "      <td>14.533371</td>\n",
       "      <td>9.117786</td>\n",
       "    </tr>\n",
       "    <tr>\n",
       "      <th>222461</th>\n",
       "      <td>20274</td>\n",
       "      <td>19285</td>\n",
       "      <td>6</td>\n",
       "      <td>836262</td>\n",
       "      <td>30278</td>\n",
       "      <td>0</td>\n",
       "      <td>2518</td>\n",
       "      <td>False</td>\n",
       "      <td>False</td>\n",
       "      <td>84827</td>\n",
       "      <td>...</td>\n",
       "      <td>18</td>\n",
       "      <td>0</td>\n",
       "      <td>2</td>\n",
       "      <td>2022</td>\n",
       "      <td>5</td>\n",
       "      <td>11</td>\n",
       "      <td>0.000000</td>\n",
       "      <td>10.318177</td>\n",
       "      <td>13.636697</td>\n",
       "      <td>7.831220</td>\n",
       "    </tr>\n",
       "    <tr>\n",
       "      <th>222462</th>\n",
       "      <td>23313</td>\n",
       "      <td>8808</td>\n",
       "      <td>7</td>\n",
       "      <td>547202</td>\n",
       "      <td>30145</td>\n",
       "      <td>0</td>\n",
       "      <td>1759</td>\n",
       "      <td>False</td>\n",
       "      <td>False</td>\n",
       "      <td>54430</td>\n",
       "      <td>...</td>\n",
       "      <td>19</td>\n",
       "      <td>0</td>\n",
       "      <td>2</td>\n",
       "      <td>2022</td>\n",
       "      <td>5</td>\n",
       "      <td>11</td>\n",
       "      <td>0.000000</td>\n",
       "      <td>10.313774</td>\n",
       "      <td>13.212573</td>\n",
       "      <td>7.472501</td>\n",
       "    </tr>\n",
       "    <tr>\n",
       "      <th>222463</th>\n",
       "      <td>3089</td>\n",
       "      <td>8817</td>\n",
       "      <td>3</td>\n",
       "      <td>1240347</td>\n",
       "      <td>65689</td>\n",
       "      <td>0</td>\n",
       "      <td>2087</td>\n",
       "      <td>False</td>\n",
       "      <td>False</td>\n",
       "      <td>54453</td>\n",
       "      <td>...</td>\n",
       "      <td>22</td>\n",
       "      <td>0</td>\n",
       "      <td>12</td>\n",
       "      <td>2022</td>\n",
       "      <td>5</td>\n",
       "      <td>11</td>\n",
       "      <td>0.000000</td>\n",
       "      <td>11.092687</td>\n",
       "      <td>14.030902</td>\n",
       "      <td>7.643483</td>\n",
       "    </tr>\n",
       "    <tr>\n",
       "      <th>222464</th>\n",
       "      <td>20439</td>\n",
       "      <td>2930</td>\n",
       "      <td>9</td>\n",
       "      <td>574351</td>\n",
       "      <td>9622</td>\n",
       "      <td>0</td>\n",
       "      <td>5981</td>\n",
       "      <td>False</td>\n",
       "      <td>False</td>\n",
       "      <td>98741</td>\n",
       "      <td>...</td>\n",
       "      <td>12</td>\n",
       "      <td>52</td>\n",
       "      <td>2</td>\n",
       "      <td>2022</td>\n",
       "      <td>5</td>\n",
       "      <td>11</td>\n",
       "      <td>0.000000</td>\n",
       "      <td>9.171807</td>\n",
       "      <td>13.260996</td>\n",
       "      <td>8.696343</td>\n",
       "    </tr>\n",
       "  </tbody>\n",
       "</table>\n",
       "<p>222465 rows × 312 columns</p>\n",
       "</div>"
      ],
      "text/plain": [
       "        channelId  channelTitle  categoryId  view_count   likes  dislikes  \\\n",
       "0           18996          8074          12       33204    8445        58   \n",
       "1            1501         13147           9      259074   14175       172   \n",
       "2            9613         12902          13      429257   79918       494   \n",
       "3           18002         11232           9      284510   65009       345   \n",
       "4           11469          3525           1      775634   15580       177   \n",
       "...           ...           ...         ...         ...     ...       ...   \n",
       "222460       2267         20222           0     2050042  131413         0   \n",
       "222461      20274         19285           6      836262   30278         0   \n",
       "222462      23313          8808           7      547202   30145         0   \n",
       "222463       3089          8817           3     1240347   65689         0   \n",
       "222464      20439          2930           9      574351    9622         0   \n",
       "\n",
       "        comment_count  comments_disabled  ratings_disabled  description  ...  \\\n",
       "0                 206              False             False        94654  ...   \n",
       "1                1139              False             False        21450  ...   \n",
       "2                4806              False             False       112187  ...   \n",
       "3                1753              False             False        78960  ...   \n",
       "4                 496              False             False        82606  ...   \n",
       "...               ...                ...               ...          ...  ...   \n",
       "222460           9116              False             False        48282  ...   \n",
       "222461           2518              False             False        84827  ...   \n",
       "222462           1759              False             False        54430  ...   \n",
       "222463           2087              False             False        54453  ...   \n",
       "222464           5981              False             False        98741  ...   \n",
       "\n",
       "        hour_published  minute_published  second_published  year_trending  \\\n",
       "0                    2                16                40           2020   \n",
       "1                    8                 0                 0           2020   \n",
       "2                   14                30                 6           2020   \n",
       "3                   23                53                57           2020   \n",
       "4                   13                59                39           2020   \n",
       "...                ...               ...               ...            ...   \n",
       "222460              18                 5                 4           2022   \n",
       "222461              18                 0                 2           2022   \n",
       "222462              19                 0                 2           2022   \n",
       "222463              22                 0                12           2022   \n",
       "222464              12                52                 2           2022   \n",
       "\n",
       "        month_trending  day_trending  Log_dislikes  Log_likes  Log_view_count  \\\n",
       "0                    8            12      4.060443   9.041330       10.410426   \n",
       "1                    8            12      5.147494   9.559235       12.464869   \n",
       "2                    8            12      6.202536  11.288756       12.969811   \n",
       "3                    8            12      5.843544  11.082281       12.558524   \n",
       "4                    8            12      5.176150   9.653743       13.561436   \n",
       "...                ...           ...           ...        ...             ...   \n",
       "222460               5            11      0.000000  11.786100       14.533371   \n",
       "222461               5            11      0.000000  10.318177       13.636697   \n",
       "222462               5            11      0.000000  10.313774       13.212573   \n",
       "222463               5            11      0.000000  11.092687       14.030902   \n",
       "222464               5            11      0.000000   9.171807       13.260996   \n",
       "\n",
       "        Log_comment_count  \n",
       "0                5.327876  \n",
       "1                7.037906  \n",
       "2                8.477620  \n",
       "3                7.469084  \n",
       "4                6.206576  \n",
       "...                   ...  \n",
       "222460           9.117786  \n",
       "222461           7.831220  \n",
       "222462           7.472501  \n",
       "222463           7.643483  \n",
       "222464           8.696343  \n",
       "\n",
       "[222465 rows x 312 columns]"
      ]
     },
     "execution_count": 46,
     "metadata": {},
     "output_type": "execute_result"
    }
   ],
   "source": [
    "# as the columns contains categorical values and we need numerical values so I use label encoding to make this\n",
    "df_col=list(df_final_cat.columns)\n",
    "result_data=df_final_new.copy()\n",
    "for i in range(len(df_col)):\n",
    "    result_data[df_col[i]] = LabelEncoder().fit_transform(result_data[df_col[i]].astype(str))\n",
    "result_data"
   ]
  },
  {
   "cell_type": "markdown",
   "metadata": {},
   "source": [
    "### Save the data after preprocessing in case of any problem to not make the preprocessing again"
   ]
  },
  {
   "cell_type": "code",
   "execution_count": 47,
   "metadata": {},
   "outputs": [],
   "source": [
    "result_data.to_csv('result_data_new.csv', index=False)"
   ]
  },
  {
   "cell_type": "code",
   "execution_count": 48,
   "metadata": {},
   "outputs": [],
   "source": [
    "result_data =pd.read_csv(\"result_data_new.csv\")"
   ]
  },
  {
   "cell_type": "code",
   "execution_count": 49,
   "metadata": {},
   "outputs": [
    {
     "name": "stdout",
     "output_type": "stream",
     "text": [
      "<class 'pandas.core.frame.DataFrame'>\n",
      "RangeIndex: 222465 entries, 0 to 222464\n",
      "Columns: 312 entries, channelId to Log_comment_count\n",
      "dtypes: bool(2), float64(4), int64(306)\n",
      "memory usage: 526.6 MB\n"
     ]
    }
   ],
   "source": [
    "result_data.info()"
   ]
  },
  {
   "cell_type": "markdown",
   "metadata": {},
   "source": [
    "## Classification on the category column"
   ]
  },
  {
   "cell_type": "code",
   "execution_count": 50,
   "metadata": {},
   "outputs": [],
   "source": [
    "# get the features that we will work on\n",
    "X_class = result_data.drop([\"Category\", 'categoryId', 'view_count','likes', 'dislikes', 'comment_count'], axis=1)\n",
    "y_class = result_data['Category']"
   ]
  },
  {
   "cell_type": "code",
   "execution_count": 51,
   "metadata": {},
   "outputs": [
    {
     "data": {
      "text/plain": [
       "SelectFromModel(estimator=RandomForestRegressor(n_estimators=50))"
      ]
     },
     "execution_count": 51,
     "metadata": {},
     "output_type": "execute_result"
    },
    {
     "data": {
      "text/plain": [
       "40"
      ]
     },
     "execution_count": 51,
     "metadata": {},
     "output_type": "execute_result"
    },
    {
     "name": "stdout",
     "output_type": "stream",
     "text": [
      "Index(['channelId', 'channelTitle', 'description', 'country', 'tv', 'comedy',\n",
      "       'vs', 'news', 'highlights', 'новости', 'show', 'vlog', 'как',\n",
      "       'football', 'sports', 'ufc', 'indian', 'интервью', 'авто', 'car', 'nba',\n",
      "       'sport', 'futebol', 'und', 'юмор', 'apple', 'матч', 'bmw', 'twitch',\n",
      "       'month_published', 'day_published', 'hour_published',\n",
      "       'minute_published', 'second_published', 'month_trending',\n",
      "       'day_trending', 'Log_dislikes', 'Log_likes', 'Log_view_count',\n",
      "       'Log_comment_count'],\n",
      "      dtype='object')\n"
     ]
    }
   ],
   "source": [
    "# feature selection using embedded method\n",
    "# select the features based on RandomForestRegressor by (n_estimators = 50)\n",
    "sel = SelectFromModel(RandomForestRegressor(n_estimators = 50))\n",
    "sel.fit(X_class, y_class)\n",
    "\n",
    "selected_feat_class= X_class.columns[(sel.get_support())]\n",
    "len(selected_feat_class)\n",
    "print(selected_feat_class)"
   ]
  },
  {
   "cell_type": "code",
   "execution_count": 52,
   "metadata": {},
   "outputs": [
    {
     "data": {
      "text/html": [
       "<div>\n",
       "<style scoped>\n",
       "    .dataframe tbody tr th:only-of-type {\n",
       "        vertical-align: middle;\n",
       "    }\n",
       "\n",
       "    .dataframe tbody tr th {\n",
       "        vertical-align: top;\n",
       "    }\n",
       "\n",
       "    .dataframe thead th {\n",
       "        text-align: right;\n",
       "    }\n",
       "</style>\n",
       "<table border=\"1\" class=\"dataframe\">\n",
       "  <thead>\n",
       "    <tr style=\"text-align: right;\">\n",
       "      <th></th>\n",
       "      <th>channelId</th>\n",
       "      <th>channelTitle</th>\n",
       "      <th>description</th>\n",
       "      <th>country</th>\n",
       "      <th>tv</th>\n",
       "      <th>comedy</th>\n",
       "      <th>vs</th>\n",
       "      <th>news</th>\n",
       "      <th>highlights</th>\n",
       "      <th>новости</th>\n",
       "      <th>...</th>\n",
       "      <th>day_published</th>\n",
       "      <th>hour_published</th>\n",
       "      <th>minute_published</th>\n",
       "      <th>second_published</th>\n",
       "      <th>month_trending</th>\n",
       "      <th>day_trending</th>\n",
       "      <th>Log_dislikes</th>\n",
       "      <th>Log_likes</th>\n",
       "      <th>Log_view_count</th>\n",
       "      <th>Log_comment_count</th>\n",
       "    </tr>\n",
       "  </thead>\n",
       "  <tbody>\n",
       "    <tr>\n",
       "      <th>0</th>\n",
       "      <td>18996.0</td>\n",
       "      <td>8074.0</td>\n",
       "      <td>94654.0</td>\n",
       "      <td>0.0</td>\n",
       "      <td>0.0</td>\n",
       "      <td>0.0</td>\n",
       "      <td>0.0</td>\n",
       "      <td>0.0</td>\n",
       "      <td>0.0</td>\n",
       "      <td>0.0</td>\n",
       "      <td>...</td>\n",
       "      <td>12.0</td>\n",
       "      <td>2.0</td>\n",
       "      <td>16.0</td>\n",
       "      <td>40.0</td>\n",
       "      <td>8.0</td>\n",
       "      <td>12.0</td>\n",
       "      <td>4.060443</td>\n",
       "      <td>9.041330</td>\n",
       "      <td>10.410426</td>\n",
       "      <td>5.327876</td>\n",
       "    </tr>\n",
       "    <tr>\n",
       "      <th>1</th>\n",
       "      <td>1501.0</td>\n",
       "      <td>13147.0</td>\n",
       "      <td>21450.0</td>\n",
       "      <td>0.0</td>\n",
       "      <td>1.0</td>\n",
       "      <td>0.0</td>\n",
       "      <td>0.0</td>\n",
       "      <td>0.0</td>\n",
       "      <td>0.0</td>\n",
       "      <td>0.0</td>\n",
       "      <td>...</td>\n",
       "      <td>12.0</td>\n",
       "      <td>8.0</td>\n",
       "      <td>0.0</td>\n",
       "      <td>0.0</td>\n",
       "      <td>8.0</td>\n",
       "      <td>12.0</td>\n",
       "      <td>5.147494</td>\n",
       "      <td>9.559235</td>\n",
       "      <td>12.464869</td>\n",
       "      <td>7.037906</td>\n",
       "    </tr>\n",
       "    <tr>\n",
       "      <th>2</th>\n",
       "      <td>9613.0</td>\n",
       "      <td>12902.0</td>\n",
       "      <td>112187.0</td>\n",
       "      <td>0.0</td>\n",
       "      <td>0.0</td>\n",
       "      <td>0.0</td>\n",
       "      <td>0.0</td>\n",
       "      <td>0.0</td>\n",
       "      <td>0.0</td>\n",
       "      <td>0.0</td>\n",
       "      <td>...</td>\n",
       "      <td>8.0</td>\n",
       "      <td>14.0</td>\n",
       "      <td>30.0</td>\n",
       "      <td>6.0</td>\n",
       "      <td>8.0</td>\n",
       "      <td>12.0</td>\n",
       "      <td>6.202536</td>\n",
       "      <td>11.288756</td>\n",
       "      <td>12.969811</td>\n",
       "      <td>8.477620</td>\n",
       "    </tr>\n",
       "    <tr>\n",
       "      <th>3</th>\n",
       "      <td>18002.0</td>\n",
       "      <td>11232.0</td>\n",
       "      <td>78960.0</td>\n",
       "      <td>0.0</td>\n",
       "      <td>0.0</td>\n",
       "      <td>0.0</td>\n",
       "      <td>0.0</td>\n",
       "      <td>0.0</td>\n",
       "      <td>0.0</td>\n",
       "      <td>0.0</td>\n",
       "      <td>...</td>\n",
       "      <td>7.0</td>\n",
       "      <td>23.0</td>\n",
       "      <td>53.0</td>\n",
       "      <td>57.0</td>\n",
       "      <td>8.0</td>\n",
       "      <td>12.0</td>\n",
       "      <td>5.843544</td>\n",
       "      <td>11.082281</td>\n",
       "      <td>12.558524</td>\n",
       "      <td>7.469084</td>\n",
       "    </tr>\n",
       "    <tr>\n",
       "      <th>4</th>\n",
       "      <td>11469.0</td>\n",
       "      <td>3525.0</td>\n",
       "      <td>82606.0</td>\n",
       "      <td>0.0</td>\n",
       "      <td>0.0</td>\n",
       "      <td>0.0</td>\n",
       "      <td>0.0</td>\n",
       "      <td>0.0</td>\n",
       "      <td>0.0</td>\n",
       "      <td>0.0</td>\n",
       "      <td>...</td>\n",
       "      <td>7.0</td>\n",
       "      <td>13.0</td>\n",
       "      <td>59.0</td>\n",
       "      <td>39.0</td>\n",
       "      <td>8.0</td>\n",
       "      <td>12.0</td>\n",
       "      <td>5.176150</td>\n",
       "      <td>9.653743</td>\n",
       "      <td>13.561436</td>\n",
       "      <td>6.206576</td>\n",
       "    </tr>\n",
       "    <tr>\n",
       "      <th>...</th>\n",
       "      <td>...</td>\n",
       "      <td>...</td>\n",
       "      <td>...</td>\n",
       "      <td>...</td>\n",
       "      <td>...</td>\n",
       "      <td>...</td>\n",
       "      <td>...</td>\n",
       "      <td>...</td>\n",
       "      <td>...</td>\n",
       "      <td>...</td>\n",
       "      <td>...</td>\n",
       "      <td>...</td>\n",
       "      <td>...</td>\n",
       "      <td>...</td>\n",
       "      <td>...</td>\n",
       "      <td>...</td>\n",
       "      <td>...</td>\n",
       "      <td>...</td>\n",
       "      <td>...</td>\n",
       "      <td>...</td>\n",
       "      <td>...</td>\n",
       "    </tr>\n",
       "    <tr>\n",
       "      <th>222460</th>\n",
       "      <td>2267.0</td>\n",
       "      <td>20222.0</td>\n",
       "      <td>48282.0</td>\n",
       "      <td>10.0</td>\n",
       "      <td>0.0</td>\n",
       "      <td>0.0</td>\n",
       "      <td>0.0</td>\n",
       "      <td>0.0</td>\n",
       "      <td>0.0</td>\n",
       "      <td>0.0</td>\n",
       "      <td>...</td>\n",
       "      <td>5.0</td>\n",
       "      <td>18.0</td>\n",
       "      <td>5.0</td>\n",
       "      <td>4.0</td>\n",
       "      <td>5.0</td>\n",
       "      <td>11.0</td>\n",
       "      <td>0.000000</td>\n",
       "      <td>11.786100</td>\n",
       "      <td>14.533371</td>\n",
       "      <td>9.117786</td>\n",
       "    </tr>\n",
       "    <tr>\n",
       "      <th>222461</th>\n",
       "      <td>20274.0</td>\n",
       "      <td>19285.0</td>\n",
       "      <td>84827.0</td>\n",
       "      <td>10.0</td>\n",
       "      <td>0.0</td>\n",
       "      <td>0.0</td>\n",
       "      <td>0.0</td>\n",
       "      <td>0.0</td>\n",
       "      <td>0.0</td>\n",
       "      <td>0.0</td>\n",
       "      <td>...</td>\n",
       "      <td>6.0</td>\n",
       "      <td>18.0</td>\n",
       "      <td>0.0</td>\n",
       "      <td>2.0</td>\n",
       "      <td>5.0</td>\n",
       "      <td>11.0</td>\n",
       "      <td>0.000000</td>\n",
       "      <td>10.318177</td>\n",
       "      <td>13.636697</td>\n",
       "      <td>7.831220</td>\n",
       "    </tr>\n",
       "    <tr>\n",
       "      <th>222462</th>\n",
       "      <td>23313.0</td>\n",
       "      <td>8808.0</td>\n",
       "      <td>54430.0</td>\n",
       "      <td>10.0</td>\n",
       "      <td>0.0</td>\n",
       "      <td>0.0</td>\n",
       "      <td>0.0</td>\n",
       "      <td>0.0</td>\n",
       "      <td>0.0</td>\n",
       "      <td>0.0</td>\n",
       "      <td>...</td>\n",
       "      <td>4.0</td>\n",
       "      <td>19.0</td>\n",
       "      <td>0.0</td>\n",
       "      <td>2.0</td>\n",
       "      <td>5.0</td>\n",
       "      <td>11.0</td>\n",
       "      <td>0.000000</td>\n",
       "      <td>10.313774</td>\n",
       "      <td>13.212573</td>\n",
       "      <td>7.472501</td>\n",
       "    </tr>\n",
       "    <tr>\n",
       "      <th>222463</th>\n",
       "      <td>3089.0</td>\n",
       "      <td>8817.0</td>\n",
       "      <td>54453.0</td>\n",
       "      <td>10.0</td>\n",
       "      <td>0.0</td>\n",
       "      <td>0.0</td>\n",
       "      <td>0.0</td>\n",
       "      <td>0.0</td>\n",
       "      <td>0.0</td>\n",
       "      <td>0.0</td>\n",
       "      <td>...</td>\n",
       "      <td>6.0</td>\n",
       "      <td>22.0</td>\n",
       "      <td>0.0</td>\n",
       "      <td>12.0</td>\n",
       "      <td>5.0</td>\n",
       "      <td>11.0</td>\n",
       "      <td>0.000000</td>\n",
       "      <td>11.092687</td>\n",
       "      <td>14.030902</td>\n",
       "      <td>7.643483</td>\n",
       "    </tr>\n",
       "    <tr>\n",
       "      <th>222464</th>\n",
       "      <td>20439.0</td>\n",
       "      <td>2930.0</td>\n",
       "      <td>98741.0</td>\n",
       "      <td>10.0</td>\n",
       "      <td>0.0</td>\n",
       "      <td>0.0</td>\n",
       "      <td>0.0</td>\n",
       "      <td>1.0</td>\n",
       "      <td>0.0</td>\n",
       "      <td>0.0</td>\n",
       "      <td>...</td>\n",
       "      <td>6.0</td>\n",
       "      <td>12.0</td>\n",
       "      <td>52.0</td>\n",
       "      <td>2.0</td>\n",
       "      <td>5.0</td>\n",
       "      <td>11.0</td>\n",
       "      <td>0.000000</td>\n",
       "      <td>9.171807</td>\n",
       "      <td>13.260996</td>\n",
       "      <td>8.696343</td>\n",
       "    </tr>\n",
       "  </tbody>\n",
       "</table>\n",
       "<p>222465 rows × 40 columns</p>\n",
       "</div>"
      ],
      "text/plain": [
       "        channelId  channelTitle  description  country   tv  comedy   vs  news  \\\n",
       "0         18996.0        8074.0      94654.0      0.0  0.0     0.0  0.0   0.0   \n",
       "1          1501.0       13147.0      21450.0      0.0  1.0     0.0  0.0   0.0   \n",
       "2          9613.0       12902.0     112187.0      0.0  0.0     0.0  0.0   0.0   \n",
       "3         18002.0       11232.0      78960.0      0.0  0.0     0.0  0.0   0.0   \n",
       "4         11469.0        3525.0      82606.0      0.0  0.0     0.0  0.0   0.0   \n",
       "...           ...           ...          ...      ...  ...     ...  ...   ...   \n",
       "222460     2267.0       20222.0      48282.0     10.0  0.0     0.0  0.0   0.0   \n",
       "222461    20274.0       19285.0      84827.0     10.0  0.0     0.0  0.0   0.0   \n",
       "222462    23313.0        8808.0      54430.0     10.0  0.0     0.0  0.0   0.0   \n",
       "222463     3089.0        8817.0      54453.0     10.0  0.0     0.0  0.0   0.0   \n",
       "222464    20439.0        2930.0      98741.0     10.0  0.0     0.0  0.0   1.0   \n",
       "\n",
       "        highlights  новости  ...  day_published  hour_published  \\\n",
       "0              0.0      0.0  ...           12.0             2.0   \n",
       "1              0.0      0.0  ...           12.0             8.0   \n",
       "2              0.0      0.0  ...            8.0            14.0   \n",
       "3              0.0      0.0  ...            7.0            23.0   \n",
       "4              0.0      0.0  ...            7.0            13.0   \n",
       "...            ...      ...  ...            ...             ...   \n",
       "222460         0.0      0.0  ...            5.0            18.0   \n",
       "222461         0.0      0.0  ...            6.0            18.0   \n",
       "222462         0.0      0.0  ...            4.0            19.0   \n",
       "222463         0.0      0.0  ...            6.0            22.0   \n",
       "222464         0.0      0.0  ...            6.0            12.0   \n",
       "\n",
       "        minute_published  second_published  month_trending  day_trending  \\\n",
       "0                   16.0              40.0             8.0          12.0   \n",
       "1                    0.0               0.0             8.0          12.0   \n",
       "2                   30.0               6.0             8.0          12.0   \n",
       "3                   53.0              57.0             8.0          12.0   \n",
       "4                   59.0              39.0             8.0          12.0   \n",
       "...                  ...               ...             ...           ...   \n",
       "222460               5.0               4.0             5.0          11.0   \n",
       "222461               0.0               2.0             5.0          11.0   \n",
       "222462               0.0               2.0             5.0          11.0   \n",
       "222463               0.0              12.0             5.0          11.0   \n",
       "222464              52.0               2.0             5.0          11.0   \n",
       "\n",
       "        Log_dislikes  Log_likes  Log_view_count  Log_comment_count  \n",
       "0           4.060443   9.041330       10.410426           5.327876  \n",
       "1           5.147494   9.559235       12.464869           7.037906  \n",
       "2           6.202536  11.288756       12.969811           8.477620  \n",
       "3           5.843544  11.082281       12.558524           7.469084  \n",
       "4           5.176150   9.653743       13.561436           6.206576  \n",
       "...              ...        ...             ...                ...  \n",
       "222460      0.000000  11.786100       14.533371           9.117786  \n",
       "222461      0.000000  10.318177       13.636697           7.831220  \n",
       "222462      0.000000  10.313774       13.212573           7.472501  \n",
       "222463      0.000000  11.092687       14.030902           7.643483  \n",
       "222464      0.000000   9.171807       13.260996           8.696343  \n",
       "\n",
       "[222465 rows x 40 columns]"
      ]
     },
     "execution_count": 52,
     "metadata": {},
     "output_type": "execute_result"
    }
   ],
   "source": [
    "def select_columns(data_frame, column_names):\n",
    "    new_frame = data_frame.loc[:, column_names]\n",
    "    return new_frame\n",
    "\n",
    "X_selected_class = []\n",
    "for i in range(len(selected_feat_class)):\n",
    "    X_selected_class.append(select_columns(result_data, selected_feat_class[i]))\n",
    "# X_selected\n",
    "    \n",
    "X_selected_pd_class = pd.DataFrame(X_selected_class).transpose()\n",
    "X_selected_pd_class"
   ]
  },
  {
   "cell_type": "code",
   "execution_count": 53,
   "metadata": {},
   "outputs": [],
   "source": [
    "# split the data into training and test by test size = 30%\n",
    "X_train_class, X_test_class, y_train_class, y_test_class = train_test_split(X_selected_pd_class, y_class, test_size=0.15)"
   ]
  },
  {
   "cell_type": "code",
   "execution_count": 54,
   "metadata": {},
   "outputs": [
    {
     "data": {
      "text/plain": [
       "GridSearchCV(cv=5,\n",
       "             estimator=RandomForestClassifier(n_estimators={'n_estimators': [10,\n",
       "                                                                             50,\n",
       "                                                                             100,\n",
       "                                                                             150]}),\n",
       "             param_grid={'n_estimators': [10, 50, 100, 150]})"
      ]
     },
     "execution_count": 54,
     "metadata": {},
     "output_type": "execute_result"
    },
    {
     "data": {
      "text/plain": [
       "{'n_estimators': 150}"
      ]
     },
     "execution_count": 54,
     "metadata": {},
     "output_type": "execute_result"
    }
   ],
   "source": [
    "# search for the best number of estimators using grid search\n",
    "grid_values = {'n_estimators': [10,50,100,150]}\n",
    "clf = RandomForestClassifier(grid_values)\n",
    "classifier2= GridSearchCV(clf, grid_values, cv=5)\n",
    "classifier2.fit(X_train_class, y_train_class)\n",
    "classifier2.best_params_"
   ]
  },
  {
   "cell_type": "code",
   "execution_count": 55,
   "metadata": {},
   "outputs": [
    {
     "data": {
      "text/plain": [
       "RandomForestClassifier(n_estimators=150)"
      ]
     },
     "execution_count": 55,
     "metadata": {},
     "output_type": "execute_result"
    },
    {
     "name": "stdout",
     "output_type": "stream",
     "text": [
      "*** Evaluation metrics for test dataset ***\n",
      "\n",
      "Random Forest Recall Score:  0.5608625803626162\n",
      "Random Forest Precision Score:  0.8368348639298727\n",
      "Random Forest F1 Score:  0.634581879874633\n",
      "Random Forest Accuracy:  0.6942463290380582\n"
     ]
    }
   ],
   "source": [
    "# build the classification model and evaluate it with the number of estimators obtained from the tuning proccess\n",
    "clf = RandomForestClassifier(n_estimators = 150)\n",
    "clf.fit(X_train_class, y_train_class)\n",
    "pred2= clf.predict(X_test_class)\n",
    "\n",
    "recall_lr = rs(y_test_class,pred2, average='macro')\n",
    "precision_lr = ps(y_test_class,pred2, average='macro')\n",
    "f1_lr= fs(y_test_class,pred2, average='macro')\n",
    "ma_lr = clf.score(X_test_class,y_test_class)\n",
    "\n",
    "print('*** Evaluation metrics for test dataset ***\\n')\n",
    "print('Random Forest Recall Score: ',recall_lr)\n",
    "print('Random Forest Precision Score: ',precision_lr)\n",
    "print('Random Forest F1 Score: ',f1_lr)\n",
    "print('Random Forest Accuracy: ',ma_lr)"
   ]
  },
  {
   "cell_type": "markdown",
   "metadata": {},
   "source": [
    "The other model using: K Nearst Neighbors"
   ]
  },
  {
   "cell_type": "code",
   "execution_count": 56,
   "metadata": {},
   "outputs": [
    {
     "data": {
      "text/plain": [
       "KNeighborsClassifier(n_neighbors=3)"
      ]
     },
     "execution_count": 56,
     "metadata": {},
     "output_type": "execute_result"
    },
    {
     "name": "stdout",
     "output_type": "stream",
     "text": [
      "*** Evaluation metrics for test dataset ***\n",
      "\n",
      "KNN Recall Score:  0.5841940658708192\n",
      "KNN Precision Score:  0.6278321727457412\n",
      "KNN F1 Score:  0.597446772421456\n",
      "KNN Accuracy:  0.6382379382679053\n"
     ]
    }
   ],
   "source": [
    "neigh = KNeighborsClassifier(n_neighbors=3)\n",
    "neigh.fit(X_train_class, y_train_class)\n",
    "pred2= neigh.predict(X_test_class)\n",
    "\n",
    "recall_knn = rs(y_test_class,pred2, average='macro')\n",
    "precision_knn = ps(y_test_class,pred2, average='macro')\n",
    "f1_knn= fs(y_test_class,pred2, average='macro')\n",
    "ma_knn = neigh.score(X_test_class,y_test_class)\n",
    "\n",
    "print('*** Evaluation metrics for test dataset ***\\n')\n",
    "print('KNN Recall Score: ',recall_knn)\n",
    "print('KNN Precision Score: ',precision_knn)\n",
    "print('KNN F1 Score: ',f1_knn)\n",
    "print('KNN Accuracy: ',ma_knn)\n"
   ]
  }
 ],
 "metadata": {
  "kernelspec": {
   "display_name": "Python 3",
   "language": "python",
   "name": "python3"
  },
  "language_info": {
   "codemirror_mode": {
    "name": "ipython",
    "version": 3
   },
   "file_extension": ".py",
   "mimetype": "text/x-python",
   "name": "python",
   "nbconvert_exporter": "python",
   "pygments_lexer": "ipython3",
   "version": "3.7.4"
  }
 },
 "nbformat": 4,
 "nbformat_minor": 5
}
